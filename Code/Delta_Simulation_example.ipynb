{
 "cells": [
  {
   "cell_type": "code",
   "execution_count": 2,
   "metadata": {},
   "outputs": [],
   "source": [
    "import numpy as np \n",
    "import pandas as pd\n",
    "from tqdm import tqdm\n",
    "from payoff_function import PayoffFunctions as payoff"
   ]
  },
  {
   "cell_type": "markdown",
   "metadata": {},
   "source": [
    "### Delta Simulation with Finite-difference Method given path-dependent options\n",
    "- we define epsilon such that h is of the same scale as St"
   ]
  },
  {
   "cell_type": "code",
   "execution_count": 3,
   "metadata": {},
   "outputs": [],
   "source": [
    "def delta_simulation(Nsim, S0, v, sigma, dt, T, h):\n",
    "    m = int(T/dt)\n",
    "    S_minus_h = [[(S0-h) for _ in range(m+1)] for _ in range(Nsim)]\n",
    "    S = [[(S0) for _ in range(m+1)] for _ in range(Nsim)]\n",
    "    S_plus_h = [[(S0+h) for _ in range(m+1)] for _ in range(Nsim)]\n",
    "    for i in tqdm(range(Nsim)):\n",
    "        Z = np.random.normal(size=m)\n",
    "        for j in range(1, m+1):\n",
    "            S_minus_h[i][j] = S_minus_h[i][j-1]*np.exp(v*dt+sigma*np.sqrt(dt)*Z[j-1])\n",
    "            S_plus_h[i][j] = S_plus_h[i][j-1]*np.exp(v*dt+sigma*np.sqrt(dt)*Z[j-1])\n",
    "            S[i][j] = S[i][j-1]*np.exp(v*dt+sigma*np.sqrt(dt)*Z[j-1])\n",
    "    \n",
    "    return pd.DataFrame(S_minus_h), pd.DataFrame(S), pd.DataFrame(S_plus_h)"
   ]
  },
  {
   "cell_type": "code",
   "execution_count": 4,
   "metadata": {},
   "outputs": [],
   "source": [
    "stock = pd.read_csv('EURO_STOXX_50_Index.csv')\n",
    "stock.columns = ['Date', 'Value']\n",
    "interest = pd.read_csv('euro_area_1_year_yield_curve.csv')\n",
    "interest = interest.iloc[:, [0, 2]]\n",
    "interest.columns = ['Date', 'Value']"
   ]
  },
  {
   "cell_type": "code",
   "execution_count": 5,
   "metadata": {},
   "outputs": [],
   "source": [
    "Nsim = 10000\n",
    "epsilon = 0.001\n",
    "S0 = stock[stock['Date']=='2023-08-09'].iloc[0, 1] # = 4317.33\n",
    "h = epsilon*S0\n",
    "r = 0.033256009999999996\n",
    "v = 0.01866808783453991\n",
    "sigma = 0.17080938010226537\n",
    "dt = 1/252\n",
    "T = 485*dt"
   ]
  },
  {
   "cell_type": "code",
   "execution_count": 7,
   "metadata": {},
   "outputs": [
    {
     "name": "stderr",
     "output_type": "stream",
     "text": [
      "100%|██████████| 10000/10000 [00:25<00:00, 392.51it/s]\n"
     ]
    }
   ],
   "source": [
    "S_minus_h, S, S_plus_h = delta_simulation(Nsim, S0, v, sigma, dt, T, h)"
   ]
  },
  {
   "cell_type": "code",
   "execution_count": 8,
   "metadata": {},
   "outputs": [],
   "source": [
    "sim_Note = np.exp(-r*T)*S.apply(payoff.payoff_original, axis=1)\n",
    "sim_Note_plus_h = np.exp(-r*T)*S_plus_h.apply(payoff.payoff_original, axis=1)\n",
    "sim_Note_minus_h = np.exp(-r*T)*S_minus_h.apply(payoff.payoff_original, axis=1)"
   ]
  },
  {
   "cell_type": "code",
   "execution_count": 9,
   "metadata": {},
   "outputs": [],
   "source": [
    "note_MC = np.mean(sim_Note)\n",
    "note_MC_plus_h = np.mean(sim_Note_plus_h)\n",
    "note_MC_minus_h = np.mean(sim_Note_minus_h)"
   ]
  },
  {
   "cell_type": "code",
   "execution_count": 11,
   "metadata": {},
   "outputs": [
    {
     "name": "stdout",
     "output_type": "stream",
     "text": [
      "Simulated Delta for 9 Aug 2023: 7.22769217120873\n"
     ]
    }
   ],
   "source": [
    "delta_MC = (note_MC_plus_h-note_MC_minus_h)/2*h\n",
    "print(f\"Simulated Delta for 9 Aug 2023: {delta_MC}\")"
   ]
  },
  {
   "cell_type": "code",
   "execution_count": null,
   "metadata": {},
   "outputs": [],
   "source": []
  }
 ],
 "metadata": {
  "kernelspec": {
   "display_name": ".venv",
   "language": "python",
   "name": "python3"
  },
  "language_info": {
   "codemirror_mode": {
    "name": "ipython",
    "version": 3
   },
   "file_extension": ".py",
   "mimetype": "text/x-python",
   "name": "python",
   "nbconvert_exporter": "python",
   "pygments_lexer": "ipython3",
   "version": "3.9.2"
  }
 },
 "nbformat": 4,
 "nbformat_minor": 2
}
