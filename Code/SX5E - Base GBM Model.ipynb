{
 "cells": [
  {
   "cell_type": "markdown",
   "metadata": {},
   "source": [
    "# EURO STOXX50 - Base GBM Model"
   ]
  },
  {
   "cell_type": "markdown",
   "metadata": {},
   "source": [
    "In this notebook, we detail our implementation of our base Geometric Brownian Motion model for the [Outperformance Bonus Certificate EURO STOXX 50](https://derivative.credit-suisse.com/ch/ch/en/detail/outperformance-bonus-certificate-euro-stoxx-50/CH1149494077/114949407), a derivative of the SX5E stock."
   ]
  },
  {
   "cell_type": "code",
   "execution_count": 1,
   "metadata": {},
   "outputs": [],
   "source": [
    "# External Libraries\n",
    "import pandas as pd\n",
    "import numpy as np\n",
    "import matplotlib.pyplot as plt\n",
    "from tqdm import tqdm\n",
    "import scipy\n",
    "from numba import jit\n",
    "import time\n",
    "\n",
    "# Our Code\n",
    "from payoff_function import PayoffFunctions"
   ]
  },
  {
   "cell_type": "markdown",
   "metadata": {},
   "source": [
    "We import our historical stock data into a Pandas dataframe called `S_all`:"
   ]
  },
  {
   "cell_type": "code",
   "execution_count": 2,
   "metadata": {},
   "outputs": [],
   "source": [
    "S_all = pd.read_csv(\"STOXX50E_1Aug2022_3Nov2023.csv\")\n",
    "S_all = S_all[['Date', 'Adj Close']]"
   ]
  },
  {
   "cell_type": "markdown",
   "metadata": {},
   "source": [
    "We then import the Euro area yields with 1-year maturity period as data for our risk-free interest rate:"
   ]
  },
  {
   "cell_type": "code",
   "execution_count": 3,
   "metadata": {},
   "outputs": [
    {
     "data": {
      "text/html": [
       "<div>\n",
       "<style scoped>\n",
       "    .dataframe tbody tr th:only-of-type {\n",
       "        vertical-align: middle;\n",
       "    }\n",
       "\n",
       "    .dataframe tbody tr th {\n",
       "        vertical-align: top;\n",
       "    }\n",
       "\n",
       "    .dataframe thead th {\n",
       "        text-align: right;\n",
       "    }\n",
       "</style>\n",
       "<table border=\"1\" class=\"dataframe\">\n",
       "  <thead>\n",
       "    <tr style=\"text-align: right;\">\n",
       "      <th></th>\n",
       "      <th>Date</th>\n",
       "      <th>Date String</th>\n",
       "      <th>Interest Rate</th>\n",
       "    </tr>\n",
       "  </thead>\n",
       "  <tbody>\n",
       "    <tr>\n",
       "      <th>0</th>\n",
       "      <td>2004-09-06</td>\n",
       "      <td>06 Sep 2004</td>\n",
       "      <td>2.298838</td>\n",
       "    </tr>\n",
       "    <tr>\n",
       "      <th>1</th>\n",
       "      <td>2004-09-07</td>\n",
       "      <td>07 Sep 2004</td>\n",
       "      <td>2.328891</td>\n",
       "    </tr>\n",
       "    <tr>\n",
       "      <th>2</th>\n",
       "      <td>2004-09-08</td>\n",
       "      <td>08 Sep 2004</td>\n",
       "      <td>2.346666</td>\n",
       "    </tr>\n",
       "    <tr>\n",
       "      <th>3</th>\n",
       "      <td>2004-09-09</td>\n",
       "      <td>09 Sep 2004</td>\n",
       "      <td>2.308988</td>\n",
       "    </tr>\n",
       "    <tr>\n",
       "      <th>4</th>\n",
       "      <td>2004-09-10</td>\n",
       "      <td>10 Sep 2004</td>\n",
       "      <td>2.271566</td>\n",
       "    </tr>\n",
       "    <tr>\n",
       "      <th>...</th>\n",
       "      <td>...</td>\n",
       "      <td>...</td>\n",
       "      <td>...</td>\n",
       "    </tr>\n",
       "    <tr>\n",
       "      <th>4897</th>\n",
       "      <td>2023-10-27</td>\n",
       "      <td>27 Oct 2023</td>\n",
       "      <td>3.420809</td>\n",
       "    </tr>\n",
       "    <tr>\n",
       "      <th>4898</th>\n",
       "      <td>2023-10-30</td>\n",
       "      <td>30 Oct 2023</td>\n",
       "      <td>3.406159</td>\n",
       "    </tr>\n",
       "    <tr>\n",
       "      <th>4899</th>\n",
       "      <td>2023-10-31</td>\n",
       "      <td>31 Oct 2023</td>\n",
       "      <td>3.387519</td>\n",
       "    </tr>\n",
       "    <tr>\n",
       "      <th>4900</th>\n",
       "      <td>2023-11-01</td>\n",
       "      <td>01 Nov 2023</td>\n",
       "      <td>3.376730</td>\n",
       "    </tr>\n",
       "    <tr>\n",
       "      <th>4901</th>\n",
       "      <td>2023-11-02</td>\n",
       "      <td>02 Nov 2023</td>\n",
       "      <td>3.367226</td>\n",
       "    </tr>\n",
       "  </tbody>\n",
       "</table>\n",
       "<p>4902 rows × 3 columns</p>\n",
       "</div>"
      ],
      "text/plain": [
       "            Date  Date String  Interest Rate\n",
       "0     2004-09-06  06 Sep 2004       2.298838\n",
       "1     2004-09-07  07 Sep 2004       2.328891\n",
       "2     2004-09-08  08 Sep 2004       2.346666\n",
       "3     2004-09-09  09 Sep 2004       2.308988\n",
       "4     2004-09-10  10 Sep 2004       2.271566\n",
       "...          ...          ...            ...\n",
       "4897  2023-10-27  27 Oct 2023       3.420809\n",
       "4898  2023-10-30  30 Oct 2023       3.406159\n",
       "4899  2023-10-31  31 Oct 2023       3.387519\n",
       "4900  2023-11-01  01 Nov 2023       3.376730\n",
       "4901  2023-11-02  02 Nov 2023       3.367226\n",
       "\n",
       "[4902 rows x 3 columns]"
      ]
     },
     "execution_count": 3,
     "metadata": {},
     "output_type": "execute_result"
    }
   ],
   "source": [
    "ir = pd.read_csv(\"euro_area_1_year_yield_curve.csv\").rename(columns={\"DATE\": \"Date\", \"TIME PERIOD\": \"Date String\", \"Yield curve spot rate, 1-year maturity - Government bond, nominal, all issuers whose rating is triple A - Euro area (changing composition) (YC.B.U2.EUR.4F.G_N_A.SV_C_YM.SR_1Y)\": \"Interest Rate\"})\n",
    "ir"
   ]
  },
  {
   "cell_type": "markdown",
   "metadata": {},
   "source": [
    "Our timestep (dt) is defined as $\\frac{1}{252}$, indicating 1 day out of 252 working days in a year."
   ]
  },
  {
   "cell_type": "code",
   "execution_count": 4,
   "metadata": {},
   "outputs": [],
   "source": [
    "dt = 1/252"
   ]
  },
  {
   "cell_type": "markdown",
   "metadata": {},
   "source": [
    "We start from 9 August 2023, and look back 252 timesteps for our historical data. This gives us a total of 252 trading days from 11 August 2022 to 9 August 2023."
   ]
  },
  {
   "cell_type": "code",
   "execution_count": 5,
   "metadata": {},
   "outputs": [
    {
     "data": {
      "text/html": [
       "<div>\n",
       "<style scoped>\n",
       "    .dataframe tbody tr th:only-of-type {\n",
       "        vertical-align: middle;\n",
       "    }\n",
       "\n",
       "    .dataframe tbody tr th {\n",
       "        vertical-align: top;\n",
       "    }\n",
       "\n",
       "    .dataframe thead th {\n",
       "        text-align: right;\n",
       "    }\n",
       "</style>\n",
       "<table border=\"1\" class=\"dataframe\">\n",
       "  <thead>\n",
       "    <tr style=\"text-align: right;\">\n",
       "      <th></th>\n",
       "      <th>Date</th>\n",
       "      <th>Adj Close</th>\n",
       "    </tr>\n",
       "  </thead>\n",
       "  <tbody>\n",
       "    <tr>\n",
       "      <th>7</th>\n",
       "      <td>2022-08-11</td>\n",
       "      <td>3757.050049</td>\n",
       "    </tr>\n",
       "    <tr>\n",
       "      <th>8</th>\n",
       "      <td>2022-08-12</td>\n",
       "      <td>3776.810059</td>\n",
       "    </tr>\n",
       "    <tr>\n",
       "      <th>9</th>\n",
       "      <td>2022-08-15</td>\n",
       "      <td>3789.620117</td>\n",
       "    </tr>\n",
       "    <tr>\n",
       "      <th>10</th>\n",
       "      <td>2022-08-16</td>\n",
       "      <td>3805.219971</td>\n",
       "    </tr>\n",
       "    <tr>\n",
       "      <th>11</th>\n",
       "      <td>2022-08-17</td>\n",
       "      <td>3756.060059</td>\n",
       "    </tr>\n",
       "    <tr>\n",
       "      <th>...</th>\n",
       "      <td>...</td>\n",
       "      <td>...</td>\n",
       "    </tr>\n",
       "    <tr>\n",
       "      <th>254</th>\n",
       "      <td>2023-08-03</td>\n",
       "      <td>4304.629883</td>\n",
       "    </tr>\n",
       "    <tr>\n",
       "      <th>255</th>\n",
       "      <td>2023-08-04</td>\n",
       "      <td>4332.910156</td>\n",
       "    </tr>\n",
       "    <tr>\n",
       "      <th>256</th>\n",
       "      <td>2023-08-07</td>\n",
       "      <td>4337.500000</td>\n",
       "    </tr>\n",
       "    <tr>\n",
       "      <th>257</th>\n",
       "      <td>2023-08-08</td>\n",
       "      <td>4288.850098</td>\n",
       "    </tr>\n",
       "    <tr>\n",
       "      <th>258</th>\n",
       "      <td>2023-08-09</td>\n",
       "      <td>4317.330078</td>\n",
       "    </tr>\n",
       "  </tbody>\n",
       "</table>\n",
       "<p>252 rows × 2 columns</p>\n",
       "</div>"
      ],
      "text/plain": [
       "           Date    Adj Close\n",
       "7    2022-08-11  3757.050049\n",
       "8    2022-08-12  3776.810059\n",
       "9    2022-08-15  3789.620117\n",
       "10   2022-08-16  3805.219971\n",
       "11   2022-08-17  3756.060059\n",
       "..          ...          ...\n",
       "254  2023-08-03  4304.629883\n",
       "255  2023-08-04  4332.910156\n",
       "256  2023-08-07  4337.500000\n",
       "257  2023-08-08  4288.850098\n",
       "258  2023-08-09  4317.330078\n",
       "\n",
       "[252 rows x 2 columns]"
      ]
     },
     "execution_count": 5,
     "metadata": {},
     "output_type": "execute_result"
    }
   ],
   "source": [
    "date_index = S_all.loc[S_all['Date'] == '2023-08-09'].index[0] + 1\n",
    "S_all.iloc[date_index-252:date_index, ]"
   ]
  },
  {
   "cell_type": "markdown",
   "metadata": {},
   "source": [
    "We then obtain the adjusted close price of this historical data, and compute the log-returns:"
   ]
  },
  {
   "cell_type": "code",
   "execution_count": 6,
   "metadata": {},
   "outputs": [],
   "source": [
    "history_data = list(S_all.iloc[date_index-252:date_index, ]['Adj Close'])\n",
    "log_history_data = np.log(history_data)\n",
    "log_return = log_history_data[1:] - log_history_data[:-1]"
   ]
  },
  {
   "cell_type": "markdown",
   "metadata": {},
   "source": [
    "We next compute our model parameters, $\\sigma$ (sample variance) and $v = r - \\frac{\\sigma^2}{2}$, which we will use in our simulation functions below. Our $r$ used is the Euro area yield curve yields for 1-year maturity for 8 August 2023, taken from the [European Central Bank data portal](https://www.ecb.europa.eu/stats/financial_markets_and_interest_rates/euro_area_yield_curves/html/index.en.html).\n",
    "\n",
    "We choose 8 August 2023 for $r$, as we are trying to emulate the actual data available to us before the trading day closes on 9 August 2023."
   ]
  },
  {
   "cell_type": "code",
   "execution_count": 7,
   "metadata": {},
   "outputs": [
    {
     "name": "stdout",
     "output_type": "stream",
     "text": [
      "v: 0.018269417834539912\n",
      "Sigma: 0.17080938010226537\n"
     ]
    }
   ],
   "source": [
    "sigma = np.std(log_return)/np.sqrt(dt)\n",
    "\n",
    "r = ir[ir['Date'] == '2023-08-08']['Interest Rate'].iloc[0] / 100\n",
    "v = r - sigma**2 / 2\n",
    "\n",
    "print(f\"v: {v}\")\n",
    "print(f\"Sigma: {sigma}\")"
   ]
  },
  {
   "cell_type": "markdown",
   "metadata": {},
   "source": [
    "### Exact GBM Simulation"
   ]
  },
  {
   "cell_type": "code",
   "execution_count": 8,
   "metadata": {},
   "outputs": [
    {
     "name": "stderr",
     "output_type": "stream",
     "text": [
      "/tmp/ipykernel_97137/2582766409.py:25: NumbaDeprecationWarning: The 'nopython' keyword argument was not supplied to the 'numba.jit' decorator. The implicit default value for this argument is currently False, but it will be changed to True in Numba 0.59.0. See https://numba.readthedocs.io/en/stable/reference/deprecation.html#deprecation-of-object-mode-fall-back-behaviour-when-using-jit for details.\n",
      "  @jit\n"
     ]
    }
   ],
   "source": [
    "def simulate_gbm_exact(n_sim, S_0, v, sigma, delta_t, T):\n",
    "    '''\n",
    "    GBM simulation using Monte Carlo\n",
    "\n",
    "    Takes in the following parameters:\n",
    "    - n_sim (integer): No. of simulations to generate\n",
    "    - S_0 (float): Price of S at time 0\n",
    "    - v (float): Given by (r - sigma^2 / 2), where r is the risk-free interest rate \n",
    "                 and sigma is the volatility calculated from historical data\n",
    "    - sigma (float): Volatility calculated from historical data (sqrt of variance)\n",
    "    - delta_t (float): Value of one timestep (e.g. 1 / 252, 1 day out of 252 working days in a year)\n",
    "    - T (float): End date, used to calculate no. of periods\n",
    "    '''\n",
    "    n_periods = int(T / delta_t)\n",
    "    S_t = np.full((n_sim, n_periods+1), S_0)\n",
    "    Z = np.random.normal(size=(n_sim, n_periods))\n",
    "\n",
    "    for i in tqdm(range(n_sim)):\n",
    "    # for i in range(n_sim):\n",
    "        for j in range(1, n_periods+1):\n",
    "            S_t[i][j] = S_t[i][j-1] * np.exp(v*delta_t + sigma*np.sqrt(delta_t)*Z[i][j-1])\n",
    "            # S_t[i][j] = S_t[i][j-1] * np.exp(v*delta_t - 0.5*(sigma**2)*delta_t + sigma*np.sqrt(delta_t)*Z[i][j-1])\n",
    "    return S_t\n",
    "\n",
    "@jit\n",
    "def simulate_gbm_exact_jit(n_sim, S_0, v, sigma, delta_t, T):\n",
    "    '''\n",
    "    GBM simulation using Monte Carlo\n",
    "\n",
    "    Takes in the following parameters:\n",
    "    - n_sim (integer): No. of simulations to generate\n",
    "    - S_0 (float): Price of S at time 0\n",
    "    - v (float): Given by (r - sigma^2 / 2), where r is the risk-free interest rate \n",
    "                 and sigma is the volatility calculated from historical data\n",
    "    - sigma (float): Volatility calculated from historical data (sqrt of variance)\n",
    "    - delta_t (float): Value of one timestep (e.g. 1 / 252, 1 day out of 252 working days in a year)\n",
    "    - T (float): End date, used to calculate no. of periods\n",
    "    '''\n",
    "    n_periods = int(T / delta_t)\n",
    "    S_t = np.full((n_sim, n_periods+1), S_0)\n",
    "    Z = np.random.normal(size=(n_sim, n_periods))\n",
    "\n",
    "    # for i in tqdm(range(n_sim)):\n",
    "    for i in range(n_sim):\n",
    "        for j in range(1, n_periods+1):\n",
    "            S_t[i][j] = S_t[i][j-1] * np.exp(v*delta_t + sigma*np.sqrt(delta_t)*Z[i][j-1])\n",
    "            # S_t[i][j] = S_t[i][j-1] * np.exp(v*delta_t - 0.5*(sigma**2)*delta_t + sigma*np.sqrt(delta_t)*Z[i][j-1])\n",
    "    return S_t"
   ]
  },
  {
   "cell_type": "code",
   "execution_count": 9,
   "metadata": {},
   "outputs": [
    {
     "name": "stderr",
     "output_type": "stream",
     "text": [
      "/tmp/ipykernel_97137/2582766409.py:25: NumbaWarning: \n",
      "Compilation is falling back to object mode WITH looplifting enabled because Function \"simulate_gbm_exact_jit\" failed type inference due to: No implementation of function Function(<built-in method normal of numpy.random.mtrand.RandomState object at 0x7f409a933640>) found for signature:\n",
      " \n",
      " >>> normal(size=UniTuple(int64 x 2))\n",
      " \n",
      "There are 8 candidate implementations:\n",
      "  - Of which 2 did not match due to:\n",
      "  Overload in function 'np_gauss_impl0': File: numba/cpython/randomimpl.py: Line 285.\n",
      "    With argument(s): '(size=UniTuple(int64 x 2))':\n",
      "   Rejected as the implementation raised a specific error:\n",
      "     TypingError: got an unexpected keyword argument 'size'\n",
      "  raised from /home/nicholas/Environments/pytorch/lib/python3.11/site-packages/numba/core/typing/templates.py:784\n",
      "  - Of which 6 did not match due to:\n",
      "  Overload in function 'np_gauss_impl1': File: numba/cpython/randomimpl.py: Line 291.\n",
      "    With argument(s): '(size=UniTuple(int64 x 2))':\n",
      "   Rejected as the implementation raised a specific error:\n",
      "     TypingError: missing a required argument: 'loc'\n",
      "  raised from /home/nicholas/Environments/pytorch/lib/python3.11/site-packages/numba/core/typing/templates.py:784\n",
      "\n",
      "During: resolving callee type: Function(<built-in method normal of numpy.random.mtrand.RandomState object at 0x7f409a933640>)\n",
      "During: typing of call at /tmp/ipykernel_97137/2582766409.py (41)\n",
      "\n",
      "\n",
      "File \"../../../../../tmp/ipykernel_97137/2582766409.py\", line 41:\n",
      "<source missing, REPL/exec in use?>\n",
      "\n",
      "  @jit\n",
      "/tmp/ipykernel_97137/2582766409.py:25: NumbaWarning: \n",
      "Compilation is falling back to object mode WITHOUT looplifting enabled because Function \"simulate_gbm_exact_jit\" failed type inference due to: Cannot determine Numba type of <class 'numba.core.dispatcher.LiftedLoop'>\n",
      "\n",
      "File \"../../../../../tmp/ipykernel_97137/2582766409.py\", line 44:\n",
      "<source missing, REPL/exec in use?>\n",
      "\n",
      "  @jit\n",
      "/home/nicholas/Environments/pytorch/lib/python3.11/site-packages/numba/core/object_mode_passes.py:151: NumbaWarning: Function \"simulate_gbm_exact_jit\" was compiled in object mode without forceobj=True, but has lifted loops.\n",
      "\n",
      "File \"../../../../../tmp/ipykernel_97137/2582766409.py\", line 25:\n",
      "<source missing, REPL/exec in use?>\n",
      "\n",
      "  warnings.warn(errors.NumbaWarning(warn_msg,\n",
      "/home/nicholas/Environments/pytorch/lib/python3.11/site-packages/numba/core/object_mode_passes.py:161: NumbaDeprecationWarning: \n",
      "Fall-back from the nopython compilation path to the object mode compilation path has been detected. This is deprecated behaviour that will be removed in Numba 0.59.0.\n",
      "\n",
      "For more information visit https://numba.readthedocs.io/en/stable/reference/deprecation.html#deprecation-of-object-mode-fall-back-behaviour-when-using-jit\n",
      "\n",
      "File \"../../../../../tmp/ipykernel_97137/2582766409.py\", line 25:\n",
      "<source missing, REPL/exec in use?>\n",
      "\n",
      "  warnings.warn(errors.NumbaDeprecationWarning(msg,\n"
     ]
    },
    {
     "name": "stdout",
     "output_type": "stream",
     "text": [
      "No. of timesteps simulated: 253\n"
     ]
    }
   ],
   "source": [
    "sim_S = simulate_gbm_exact_jit(10, history_data[-1], v, sigma, dt, 1)\n",
    "print(f\"No. of timesteps simulated: {len(sim_S[0])}\")"
   ]
  },
  {
   "cell_type": "code",
   "execution_count": 10,
   "metadata": {},
   "outputs": [
    {
     "data": {
      "image/png": "[encoded data removed]",
      "text/plain": [
       "<Figure size 640x480 with 1 Axes>"
      ]
     },
     "metadata": {},
     "output_type": "display_data"
    }
   ],
   "source": [
    "plot1 = pd.Series(history_data, index=np.arange(len(history_data)))\n",
    "plt.plot(plot1)\n",
    "for i in range(len(sim_S)):\n",
    "    plot2 = pd.Series(sim_S[i], index=np.arange(len(history_data)-1, len(history_data)-1+len(sim_S[0])))\n",
    "    plt.plot(plot2)\n",
    "plt.show()"
   ]
  },
  {
   "cell_type": "markdown",
   "metadata": {},
   "source": [
    "# Risk-Neutral Valuation"
   ]
  },
  {
   "cell_type": "markdown",
   "metadata": {},
   "source": [
    "For our risk-neutral valuation, we perform the following:\n",
    "1) Look back M time steps for historical data (given an M of 252, we'll take the subset of data from 11 August 2022 to 9 August 2023)\n",
    "2) Estimate our model parameters (sigma = sqrt(sample variance) from historical data for the GBM model)\n",
    "3) Plug our estimated model parameters into our simulation functions and simulate N simulations from 10 August 2023 to our maturity date (e.g. monte carlo, monte carlo with antithetic variates)\n",
    "4) Calculate our predicted stock price using the mean of the N simulations on our maturity date\n",
    "5) Calculate our option price by pulling back from the predicted stock price"
   ]
  },
  {
   "cell_type": "code",
   "execution_count": 11,
   "metadata": {},
   "outputs": [
    {
     "name": "stdout",
     "output_type": "stream",
     "text": [
      "r: 0.03285734\n",
      "v: 0.018269417834539912\n"
     ]
    }
   ],
   "source": [
    "# TODO: Vary r with date\n",
    "r = ir[ir['Date'] == '2023-08-08']['Interest Rate'].values[0] / 100\n",
    "v = r - sigma**2 / 2\n",
    "St = history_data[-1]\n",
    "Nsim=1000\n",
    "# TODO: Fix T to calculate no. of working days from final fixing date\n",
    "final_fixing_date = '2025-07-14'\n",
    "T = 485/252\n",
    "print(f\"r: {r}\")\n",
    "print(f\"v: {v}\")"
   ]
  },
  {
   "cell_type": "markdown",
   "metadata": {},
   "source": [
    "### Normal Monte Carlo Simulation"
   ]
  },
  {
   "cell_type": "code",
   "execution_count": 12,
   "metadata": {},
   "outputs": [],
   "source": [
    "predicted_derivative_dict = dict()"
   ]
  },
  {
   "cell_type": "code",
   "execution_count": 13,
   "metadata": {},
   "outputs": [],
   "source": [
    "dates = ir[(ir['Date'] >= '2023-08-09') & (ir['Date'] <= '2023-11-09')]['Date'].values\n",
    "predicted_derivative_dict['date'] = dates"
   ]
  },
  {
   "cell_type": "code",
   "execution_count": 14,
   "metadata": {},
   "outputs": [
    {
     "name": "stderr",
     "output_type": "stream",
     "text": [
      "  0%|                                                    | 0/62 [00:00<?, ?it/s]/tmp/ipykernel_97137/2582766409.py:25: NumbaWarning: \n",
      "Compilation is falling back to object mode WITH looplifting enabled because Function \"simulate_gbm_exact_jit\" failed type inference due to: No implementation of function Function(<built-in method normal of numpy.random.mtrand.RandomState object at 0x7f409a933640>) found for signature:\n",
      " \n",
      " >>> normal(size=UniTuple(int64 x 2))\n",
      " \n",
      "There are 8 candidate implementations:\n",
      "    - Of which 2 did not match due to:\n",
      "    Overload in function 'np_gauss_impl0': File: numba/cpython/randomimpl.py: Line 285.\n",
      "      With argument(s): '(size=UniTuple(int64 x 2))':\n",
      "     Rejected as the implementation raised a specific error:\n",
      "       TypingError: got an unexpected keyword argument 'size'\n",
      "  raised from /home/nicholas/Environments/pytorch/lib/python3.11/site-packages/numba/core/typing/templates.py:784\n",
      "    - Of which 6 did not match due to:\n",
      "    Overload in function 'np_gauss_impl1': File: numba/cpython/randomimpl.py: Line 291.\n",
      "      With argument(s): '(size=UniTuple(int64 x 2))':\n",
      "     Rejected as the implementation raised a specific error:\n",
      "       TypingError: missing a required argument: 'loc'\n",
      "  raised from /home/nicholas/Environments/pytorch/lib/python3.11/site-packages/numba/core/typing/templates.py:784\n",
      "\n",
      "During: resolving callee type: Function(<built-in method normal of numpy.random.mtrand.RandomState object at 0x7f409a933640>)\n",
      "During: typing of call at /tmp/ipykernel_97137/2582766409.py (41)\n",
      "\n",
      "\n",
      "File \"../../../../../tmp/ipykernel_97137/2582766409.py\", line 41:\n",
      "<source missing, REPL/exec in use?>\n",
      "\n",
      "  @jit\n",
      "/tmp/ipykernel_97137/2582766409.py:25: NumbaWarning: \n",
      "Compilation is falling back to object mode WITHOUT looplifting enabled because Function \"simulate_gbm_exact_jit\" failed type inference due to: Cannot determine Numba type of <class 'numba.core.dispatcher.LiftedLoop'>\n",
      "\n",
      "File \"../../../../../tmp/ipykernel_97137/2582766409.py\", line 44:\n",
      "<source missing, REPL/exec in use?>\n",
      "\n",
      "  @jit\n",
      "/home/nicholas/Environments/pytorch/lib/python3.11/site-packages/numba/core/object_mode_passes.py:151: NumbaWarning: Function \"simulate_gbm_exact_jit\" was compiled in object mode without forceobj=True, but has lifted loops.\n",
      "\n",
      "File \"../../../../../tmp/ipykernel_97137/2582766409.py\", line 25:\n",
      "<source missing, REPL/exec in use?>\n",
      "\n",
      "  warnings.warn(errors.NumbaWarning(warn_msg,\n",
      "/home/nicholas/Environments/pytorch/lib/python3.11/site-packages/numba/core/object_mode_passes.py:161: NumbaDeprecationWarning: \n",
      "Fall-back from the nopython compilation path to the object mode compilation path has been detected. This is deprecated behaviour that will be removed in Numba 0.59.0.\n",
      "\n",
      "For more information visit https://numba.readthedocs.io/en/stable/reference/deprecation.html#deprecation-of-object-mode-fall-back-behaviour-when-using-jit\n",
      "\n",
      "File \"../../../../../tmp/ipykernel_97137/2582766409.py\", line 25:\n",
      "<source missing, REPL/exec in use?>\n",
      "\n",
      "  warnings.warn(errors.NumbaDeprecationWarning(msg,\n",
      "100%|███████████████████████████████████████████| 62/62 [00:03<00:00, 19.86it/s]"
     ]
    },
    {
     "name": "stdout",
     "output_type": "stream",
     "text": [
      "Time taken (MC): 3.1262679739993473s\n",
      "\n",
      "Note Value (MC) on 2023-08-09: 1403.3594752414285\n",
      "Estimate Variance: 170.0071338881055\n",
      "95% Confidence Interval: [1377.803665617303, 1428.915284865554]\n"
     ]
    },
    {
     "name": "stderr",
     "output_type": "stream",
     "text": [
      "\n"
     ]
    }
   ],
   "source": [
    "mc_means = []\n",
    "mc_vars = []\n",
    "\n",
    "mc_jit_start = time.perf_counter()\n",
    "for date in tqdm(dates):\n",
    "    sim_S_jit = simulate_gbm_exact_jit(Nsim, St, v, sigma, dt, T)\n",
    "    sim_S_df = pd.DataFrame(sim_S_jit)\n",
    "    \n",
    "    sim_Note = np.exp(-r*T)*sim_S_df.apply(PayoffFunctions.payoff_original, axis=1)\n",
    "    note_MC = np.mean(sim_Note)\n",
    "    note_MC_var = np.var(sim_Note)/Nsim\n",
    "    \n",
    "    mc_means.append(note_MC)\n",
    "    mc_vars.append(note_MC_var)\n",
    "    \n",
    "mc_jit_end = time.perf_counter()\n",
    "print(f\"Time taken (MC): {mc_jit_end - mc_jit_start}s\\n\")\n",
    "\n",
    "lower_percentile = mc_means[0]-1.96*np.sqrt(mc_vars[0])\n",
    "higher_percentile = mc_means[0]+1.96*np.sqrt(mc_vars[0])\n",
    "print(f\"Note Value (MC) on {dates[0]}: {mc_means[0]}\")\n",
    "print(f\"Estimate Variance: {mc_vars[0]}\")\n",
    "print(f\"95% Confidence Interval: [{lower_percentile}, {higher_percentile}]\")\n",
    "predicted_derivative_dict['MC_Mean'] = mc_means\n",
    "predicted_derivative_dict['MC_Var'] = mc_vars"
   ]
  },
  {
   "cell_type": "markdown",
   "metadata": {},
   "source": [
    "### Antithetic Variate Simulation"
   ]
  },
  {
   "cell_type": "code",
   "execution_count": 15,
   "metadata": {},
   "outputs": [
    {
     "name": "stderr",
     "output_type": "stream",
     "text": [
      "/tmp/ipykernel_97137/1724112361.py:38: NumbaDeprecationWarning: The 'nopython' keyword argument was not supplied to the 'numba.jit' decorator. The implicit default value for this argument is currently False, but it will be changed to True in Numba 0.59.0. See https://numba.readthedocs.io/en/stable/reference/deprecation.html#deprecation-of-object-mode-fall-back-behaviour-when-using-jit for details.\n",
      "  @jit\n"
     ]
    }
   ],
   "source": [
    "def simulate_gbm_exact_av(n_sim, S_0, v, sigma, delta_t, T, collate=False):\n",
    "    '''\n",
    "    GBM simulation using Monte Carlo with antithetic variates\n",
    "\n",
    "    Takes in the following parameters:\n",
    "    - n_sim (integer): No. of simulations to generate\n",
    "    - S_0 (float): Price of S at time 0\n",
    "    - v (float): Given by (r - sigma^2 / 2), where r is the risk-free interest rate \n",
    "                 and sigma is the volatility calculated from historical data\n",
    "    - sigma (float): Volatility calculated from historical data (sqrt of variance)\n",
    "    - delta_t (float): Value of one timestep (e.g. 1 / 252, 1 day out of 252 working days in a year)\n",
    "    - T (float): End date, used to calculate no. of periods\n",
    "    - collate - Boolean: True - Returns [S_t[0], S_tilde_t[0], ..., S_t[n_sim-1], S_tilde_t[n_sim-1]],\n",
    "                         False - Returns [S_t[0], ..., S_t[n_sim-1], S_tilde_t[0], ..., S_tilde_t[n_sim-1]],\n",
    "    '''\n",
    "    n_periods = int(T / delta_t)\n",
    "    S_t = np.full((n_sim, n_periods+1), S_0)\n",
    "    S_tilde_t = np.full((n_sim, n_periods+1), S_0)\n",
    "    Z = np.random.normal(size=(n_sim, n_periods))\n",
    "    \n",
    "    for i in tqdm(range(n_sim)):\n",
    "    # for i in range(n_sim):\n",
    "        for j in range(1, n_periods+1):\n",
    "            S_t[i][j] = S_t[i][j-1] * np.exp(v*delta_t + sigma * np.sqrt(delta_t) * Z[i][j-1])\n",
    "            S_tilde_t[i][j] = S_tilde_t[i][j-1] * np.exp(v*delta_t + sigma * np.sqrt(delta_t) * (-Z[i][j-1]))\n",
    "            # S_t[i][j] = S_t[i][j-1] * np.exp(v*delta_t - 0.5*(sigma**2)*delta_t + sigma * np.sqrt(delta_t) * Z[i][j-1])\n",
    "            # S_tilde_t[i][j] = S_tilde_t[i][j-1] * np.exp(v*delta_t - 0.5*(sigma**2)*delta_t + sigma * np.sqrt(delta_t) * (-Z[i][j-1]))\n",
    "\n",
    "    if collate:\n",
    "        collated = [None] * (2*n_sim)\n",
    "        for i in range(n_sim):\n",
    "            collated[2*i] = S_t[i]\n",
    "            collated[2*i+1] = S_tilde_t[i]\n",
    "        return collated\n",
    "    S_t = np.append(S_t, S_tilde_t, 0)\n",
    "    return S_t\n",
    "\n",
    "@jit\n",
    "def simulate_gbm_exact_av_jit(n_sim, S_0, v, sigma, delta_t, T):\n",
    "    '''\n",
    "    GBM simulation using Monte Carlo with antithetic variates\n",
    "\n",
    "    Takes in the following parameters:\n",
    "    - n_sim (integer): No. of simulations to generate\n",
    "    - S_0 (float): Price of S at time 0\n",
    "    - v (float): Given by (r - sigma^2 / 2), where r is the risk-free interest rate \n",
    "                 and sigma is the volatility calculated from historical data\n",
    "    - sigma (float): Volatility calculated from historical data (sqrt of variance)\n",
    "    - delta_t (float): Value of one timestep (e.g. 1 / 252, 1 day out of 252 working days in a year)\n",
    "    - T (float): End date, used to calculate no. of periods\n",
    "    - collate - Boolean: True - Returns [S_t[0], S_tilde_t[0], ..., S_t[n_sim-1], S_tilde_t[n_sim-1]],\n",
    "                         False - Returns [S_t[0], ..., S_t[n_sim-1], S_tilde_t[0], ..., S_tilde_t[n_sim-1]],\n",
    "    '''\n",
    "    n_periods = int(T / delta_t)\n",
    "    S_t = np.full((n_sim*2, n_periods+1), S_0) # Combined S_tilde_t with S_t\n",
    "    Z = np.random.normal(size=(n_sim, n_periods))\n",
    "    \n",
    "    #for i in tqdm(range(n_sim)):\n",
    "    for i in range(n_sim):\n",
    "        for j in range(1, n_periods+1):\n",
    "            S_t[i][j] = S_t[i][j-1] * np.exp(v*delta_t + sigma * np.sqrt(delta_t) * Z[i][j-1])\n",
    "            # S_tilde is stored in the second half of the array\n",
    "            S_t[n_sim+i][j] = S_t[n_sim+i][j-1] * np.exp(v*delta_t + sigma * np.sqrt(delta_t) * (-Z[i][j-1]))\n",
    "\n",
    "    return S_t"
   ]
  },
  {
   "cell_type": "code",
   "execution_count": 16,
   "metadata": {},
   "outputs": [
    {
     "name": "stderr",
     "output_type": "stream",
     "text": [
      "  0%|                                                    | 0/62 [00:00<?, ?it/s]/tmp/ipykernel_97137/1724112361.py:38: NumbaWarning: \n",
      "Compilation is falling back to object mode WITH looplifting enabled because Function \"simulate_gbm_exact_av_jit\" failed type inference due to: No implementation of function Function(<built-in method normal of numpy.random.mtrand.RandomState object at 0x7f409a933640>) found for signature:\n",
      " \n",
      " >>> normal(size=UniTuple(int64 x 2))\n",
      " \n",
      "There are 8 candidate implementations:\n",
      "      - Of which 2 did not match due to:\n",
      "      Overload in function 'np_gauss_impl0': File: numba/cpython/randomimpl.py: Line 285.\n",
      "        With argument(s): '(size=UniTuple(int64 x 2))':\n",
      "       Rejected as the implementation raised a specific error:\n",
      "         TypingError: got an unexpected keyword argument 'size'\n",
      "  raised from /home/nicholas/Environments/pytorch/lib/python3.11/site-packages/numba/core/typing/templates.py:784\n",
      "      - Of which 6 did not match due to:\n",
      "      Overload in function 'np_gauss_impl1': File: numba/cpython/randomimpl.py: Line 291.\n",
      "        With argument(s): '(size=UniTuple(int64 x 2))':\n",
      "       Rejected as the implementation raised a specific error:\n",
      "         TypingError: missing a required argument: 'loc'\n",
      "  raised from /home/nicholas/Environments/pytorch/lib/python3.11/site-packages/numba/core/typing/templates.py:784\n",
      "\n",
      "During: resolving callee type: Function(<built-in method normal of numpy.random.mtrand.RandomState object at 0x7f409a933640>)\n",
      "During: typing of call at /tmp/ipykernel_97137/1724112361.py (56)\n",
      "\n",
      "\n",
      "File \"../../../../../tmp/ipykernel_97137/1724112361.py\", line 56:\n",
      "<source missing, REPL/exec in use?>\n",
      "\n",
      "  @jit\n",
      "/tmp/ipykernel_97137/1724112361.py:38: NumbaWarning: \n",
      "Compilation is falling back to object mode WITHOUT looplifting enabled because Function \"simulate_gbm_exact_av_jit\" failed type inference due to: Cannot determine Numba type of <class 'numba.core.dispatcher.LiftedLoop'>\n",
      "\n",
      "File \"../../../../../tmp/ipykernel_97137/1724112361.py\", line 59:\n",
      "<source missing, REPL/exec in use?>\n",
      "\n",
      "  @jit\n",
      "/home/nicholas/Environments/pytorch/lib/python3.11/site-packages/numba/core/object_mode_passes.py:151: NumbaWarning: Function \"simulate_gbm_exact_av_jit\" was compiled in object mode without forceobj=True, but has lifted loops.\n",
      "\n",
      "File \"../../../../../tmp/ipykernel_97137/1724112361.py\", line 38:\n",
      "<source missing, REPL/exec in use?>\n",
      "\n",
      "  warnings.warn(errors.NumbaWarning(warn_msg,\n",
      "/home/nicholas/Environments/pytorch/lib/python3.11/site-packages/numba/core/object_mode_passes.py:161: NumbaDeprecationWarning: \n",
      "Fall-back from the nopython compilation path to the object mode compilation path has been detected. This is deprecated behaviour that will be removed in Numba 0.59.0.\n",
      "\n",
      "For more information visit https://numba.readthedocs.io/en/stable/reference/deprecation.html#deprecation-of-object-mode-fall-back-behaviour-when-using-jit\n",
      "\n",
      "File \"../../../../../tmp/ipykernel_97137/1724112361.py\", line 38:\n",
      "<source missing, REPL/exec in use?>\n",
      "\n",
      "  warnings.warn(errors.NumbaDeprecationWarning(msg,\n",
      "100%|███████████████████████████████████████████| 62/62 [00:02<00:00, 22.29it/s]"
     ]
    },
    {
     "name": "stdout",
     "output_type": "stream",
     "text": [
      "Time taken (AV): 2.7839949980007077s\n",
      "\n",
      "Note Value (AV) on 2023-08-09: 1407.081108206039\n",
      "Estimate Variance: 165.94919188999734\n",
      "95% Confidence Interval: [1381.8321396020622, 1432.330076810016]\n"
     ]
    },
    {
     "name": "stderr",
     "output_type": "stream",
     "text": [
      "\n"
     ]
    }
   ],
   "source": [
    "av_means = []\n",
    "av_vars = []\n",
    "\n",
    "av_jit_start = time.perf_counter()\n",
    "for date in tqdm(dates):\n",
    "    sim_S_AV_jit = simulate_gbm_exact_av_jit(int(Nsim/2), St, v, sigma, dt, T)    \n",
    "    sim_S_AV_df = pd.DataFrame(sim_S_AV_jit)\n",
    "    \n",
    "    sim_Note_AV = np.exp(-r*T)*sim_S_AV_df.apply(PayoffFunctions.payoff_original, axis=1)\n",
    "    note_AV = np.mean(sim_Note_AV)\n",
    "    note_AV_var = np.var(sim_Note_AV)/Nsim\n",
    "    av_means.append(note_AV)\n",
    "    av_vars.append(note_AV_var)\n",
    "\n",
    "av_jit_end = time.perf_counter()\n",
    "print(f\"Time taken (AV): {av_jit_end - av_jit_start}s\\n\")\n",
    "\n",
    "lower_percentile = av_means[0]-1.96*np.sqrt(av_vars[0])\n",
    "higher_percentile = av_means[0]+1.96*np.sqrt(av_vars[0])\n",
    "print(f\"Note Value (AV) on {dates[0]}: {av_means[0]}\")\n",
    "print(f\"Estimate Variance: {av_vars[0]}\")\n",
    "print(f\"95% Confidence Interval: [{lower_percentile}, {higher_percentile}]\")\n",
    "predicted_derivative_dict['AV_Mean'] = av_means\n",
    "predicted_derivative_dict['AV_Var'] = av_vars"
   ]
  },
  {
   "cell_type": "markdown",
   "metadata": {},
   "source": [
    "### Control Variate Simulation"
   ]
  },
  {
   "cell_type": "code",
   "execution_count": 17,
   "metadata": {},
   "outputs": [
    {
     "name": "stderr",
     "output_type": "stream",
     "text": [
      "/tmp/ipykernel_97137/1578277947.py:12: NumbaDeprecationWarning: The 'nopython' keyword argument was not supplied to the 'numba.jit' decorator. The implicit default value for this argument is currently False, but it will be changed to True in Numba 0.59.0. See https://numba.readthedocs.io/en/stable/reference/deprecation.html#deprecation-of-object-mode-fall-back-behaviour-when-using-jit for details.\n",
      "  @jit\n"
     ]
    }
   ],
   "source": [
    "def simulate_gbm_exact_cv(n_sim, S_0, v, sigma, delta_t, T, payoff_fn, n1=1000):\n",
    "    hsi_simulations_pre = simulate_gbm_exact(n1, S_0, v, sigma, delta_t, T)\n",
    "    payoffs_pre = np.array([payoff_fn(sim) for sim in hsi_simulations_pre])\n",
    "    sim_notes_pre = np.exp(-r * T) * payoffs_pre\n",
    "    c = -np.cov(sim_notes_pre, hsi_simulations_pre[:,-1])[0,1] / (S_0**2 * np.exp(2*r*T) * (np.exp(sigma**2*T)-1))\n",
    "    \n",
    "    hsi_simulations_cv = simulate_gbm_exact(n_sim, S_0, v, sigma, delta_t, T)\n",
    "    payoffs_cv = np.array([payoff_fn(sim) for sim in hsi_simulations_cv])\n",
    "    sim_notes_cv = np.exp(-r * T) * payoffs_cv + c*(hsi_simulations_cv[:,-1] - S_0*np.exp(r*T))\n",
    "    return sim_notes_cv\n",
    "\n",
    "@jit\n",
    "def simulate_gbm_exact_cv_jit(n_sim, S_0, v, sigma, delta_t, T, payoff_fn, n1=1000):\n",
    "    hsi_simulations_pre = simulate_gbm_exact_jit(n1, S_0, v, sigma, delta_t, T)\n",
    "    payoffs_pre = np.array([payoff_fn(sim) for sim in hsi_simulations_pre])\n",
    "    sim_notes_pre = np.exp(-r * T) * payoffs_pre\n",
    "    c = -np.cov(sim_notes_pre, hsi_simulations_pre[:,-1])[0,1] / (S_0**2 * np.exp(2*r*T) * (np.exp(sigma**2*T)-1))\n",
    "    \n",
    "    hsi_simulations_cv = simulate_gbm_exact_jit(n_sim, S_0, v, sigma, delta_t, T)\n",
    "    payoffs_cv = np.array([payoff_fn(sim) for sim in hsi_simulations_cv])\n",
    "    sim_notes_cv = np.exp(-r * T) * payoffs_cv + c*(hsi_simulations_cv[:,-1] - S_0*np.exp(r*T))\n",
    "    return sim_notes_cv"
   ]
  },
  {
   "cell_type": "code",
   "execution_count": 18,
   "metadata": {},
   "outputs": [
    {
     "name": "stderr",
     "output_type": "stream",
     "text": [
      "  0%|                                                    | 0/62 [00:00<?, ?it/s]/tmp/ipykernel_97137/1578277947.py:12: NumbaWarning: \n",
      "Compilation is falling back to object mode WITH looplifting enabled because Function \"simulate_gbm_exact_cv_jit\" failed type inference due to: non-precise type pyobject\n",
      "During: typing of argument at /tmp/ipykernel_97137/1578277947.py (12)\n",
      "\n",
      "File \"../../../../../tmp/ipykernel_97137/1578277947.py\", line 12:\n",
      "<source missing, REPL/exec in use?>\n",
      "\n",
      "  @jit\n",
      "/home/nicholas/Environments/pytorch/lib/python3.11/site-packages/numba/core/object_mode_passes.py:151: NumbaWarning: Function \"simulate_gbm_exact_cv_jit\" was compiled in object mode without forceobj=True.\n",
      "\n",
      "File \"../../../../../tmp/ipykernel_97137/1578277947.py\", line 12:\n",
      "<source missing, REPL/exec in use?>\n",
      "\n",
      "  warnings.warn(errors.NumbaWarning(warn_msg,\n",
      "/home/nicholas/Environments/pytorch/lib/python3.11/site-packages/numba/core/object_mode_passes.py:161: NumbaDeprecationWarning: \n",
      "Fall-back from the nopython compilation path to the object mode compilation path has been detected. This is deprecated behaviour that will be removed in Numba 0.59.0.\n",
      "\n",
      "For more information visit https://numba.readthedocs.io/en/stable/reference/deprecation.html#deprecation-of-object-mode-fall-back-behaviour-when-using-jit\n",
      "\n",
      "File \"../../../../../tmp/ipykernel_97137/1578277947.py\", line 12:\n",
      "<source missing, REPL/exec in use?>\n",
      "\n",
      "  warnings.warn(errors.NumbaDeprecationWarning(msg,\n",
      "100%|███████████████████████████████████████████| 62/62 [00:05<00:00, 11.82it/s]"
     ]
    },
    {
     "name": "stdout",
     "output_type": "stream",
     "text": [
      "Time taken (CV): 5.246423639000568s\n",
      "\n",
      "Note Value (CV) on 2023-08-09: 1412.6056317051416\n",
      "Estimate Variance: 4.4809066167268865\n",
      "95% Confidence Interval: [1408.4566739012084, 1416.7545895090748]\n"
     ]
    },
    {
     "name": "stderr",
     "output_type": "stream",
     "text": [
      "\n"
     ]
    }
   ],
   "source": [
    "cv_means = []\n",
    "cv_vars = []\n",
    "\n",
    "cv_jit_start = time.perf_counter()\n",
    "for date in tqdm(dates):\n",
    "    sim_Note_CV_jit = simulate_gbm_exact_cv_jit(Nsim, St, v, sigma, dt, T, payoff_fn=PayoffFunctions.payoff_original)\n",
    "    \n",
    "    note_CV = np.mean(sim_Note_CV_jit)\n",
    "    note_CV_var = np.var(sim_Note_CV_jit)/Nsim\n",
    "    cv_means.append(note_CV)\n",
    "    cv_vars.append(note_CV_var)\n",
    "    \n",
    "cv_jit_end = time.perf_counter()\n",
    "print(f\"Time taken (CV): {cv_jit_end - cv_jit_start}s\\n\")\n",
    "\n",
    "lower_percentile = cv_means[0]-1.96*np.sqrt(cv_vars[0])\n",
    "higher_percentile = cv_means[0]+1.96*np.sqrt(cv_vars[0])\n",
    "print(f\"Note Value (CV) on {dates[0]}: {cv_means[0]}\")\n",
    "print(f\"Estimate Variance: {cv_vars[0]}\")\n",
    "print(f\"95% Confidence Interval: [{lower_percentile}, {higher_percentile}]\")\n",
    "predicted_derivative_dict['CV_Mean'] = cv_means\n",
    "predicted_derivative_dict['CV_Var'] = cv_vars"
   ]
  },
  {
   "cell_type": "markdown",
   "metadata": {},
   "source": [
    "### Stratified Sampling Simulation"
   ]
  },
  {
   "cell_type": "code",
   "execution_count": 19,
   "metadata": {},
   "outputs": [
    {
     "name": "stderr",
     "output_type": "stream",
     "text": [
      "/tmp/ipykernel_97137/4110670031.py:22: NumbaDeprecationWarning: The 'nopython' keyword argument was not supplied to the 'numba.jit' decorator. The implicit default value for this argument is currently False, but it will be changed to True in Numba 0.59.0. See https://numba.readthedocs.io/en/stable/reference/deprecation.html#deprecation-of-object-mode-fall-back-behaviour-when-using-jit for details.\n",
      "  @jit\n"
     ]
    }
   ],
   "source": [
    "def simulate_gbm_1_shoot_ss(n_strata, n_sim_s, S_0, v, sigma, T):\n",
    "    '''\n",
    "    GBM simulation using Monte Carlo with stratified sampling\n",
    "\n",
    "    Takes in the following parameters:\n",
    "    - n_strata (integer): No. of strata\n",
    "    - n_sim_s (integer): No. of simulations to generate per strata (Total = n_strata * n_sim_s)\n",
    "    - S_0 (float): Price of S at time 0\n",
    "    - v (float): Given by (r - sigma^2 / 2), where r is the risk-free interest rate \n",
    "                 and sigma is the volatility calculated from historical data\n",
    "    - sigma (float): Volatility calculated from historical data (sqrt of variance)\n",
    "    - T (float): End date, used to calculate no. of periods\n",
    "    '''\n",
    "    V = np.random.uniform(size=n_sim_s) / n_strata\n",
    "    for i in range(1, n_strata):\n",
    "        V = np.append(V, (i + np.random.uniform(size=n_sim_s)) / n_strata, 0 )\n",
    "    Z = np.array(scipy.stats.norm.ppf(V))\n",
    "    S_T = S_0 * np.exp(v*T + sigma*np.sqrt(T)*Z)\n",
    "    # S_T = S_0 * np.exp(v*T - 0.5*(sigma**2)*T + sigma*np.sqrt(T)*Z)\n",
    "    return S_T.reshape(n_sim_s*n_strata, 1)\n",
    "\n",
    "@jit\n",
    "def simulate_gbm_1_shoot_ss_jit(n_strata, n_sim_s, S_0, v, sigma, T):\n",
    "    '''\n",
    "    GBM simulation using Monte Carlo with stratified sampling\n",
    "\n",
    "    Takes in the following parameters:\n",
    "    - n_strata (integer): No. of strata\n",
    "    - n_sim_s (integer): No. of simulations to generate per strata (Total = n_strata * n_sim_s)\n",
    "    - S_0 (float): Price of S at time 0\n",
    "    - v (float): Given by (r - sigma^2 / 2), where r is the risk-free interest rate \n",
    "                 and sigma is the volatility calculated from historical data\n",
    "    - sigma (float): Volatility calculated from historical data (sqrt of variance)\n",
    "    - T (float): End date, used to calculate no. of periods\n",
    "    '''\n",
    "    V = np.empty(n_strata*n_sim_s, dtype=np.float64)\n",
    "    for i in range(n_strata):\n",
    "        V[i*n_sim_s:(i+1)*n_sim_s] = (i + np.random.uniform(size=n_sim_s)) / n_strata\n",
    "        # V = np.append(V, (i + np.random.uniform(size=n_sim_s)) / n_strata, 0 )\n",
    "    Z = np.array(scipy.stats.norm.ppf(V))\n",
    "    S_T = S_0 * np.exp(v*T + sigma*np.sqrt(T)*Z)\n",
    "    # S_T = S_0 * np.exp(v*T - 0.5*(sigma**2)*T + sigma*np.sqrt(T)*Z)\n",
    "    return S_T.reshape(n_sim_s*n_strata, 1)"
   ]
  },
  {
   "cell_type": "code",
   "execution_count": 20,
   "metadata": {},
   "outputs": [
    {
     "name": "stderr",
     "output_type": "stream",
     "text": [
      "  0%|                                                    | 0/62 [00:00<?, ?it/s]/tmp/ipykernel_97137/4110670031.py:22: NumbaWarning: \n",
      "Compilation is falling back to object mode WITH looplifting enabled because Function \"simulate_gbm_1_shoot_ss_jit\" failed type inference due to: No implementation of function Function(<built-in method uniform of numpy.random.mtrand.RandomState object at 0x7f409a933640>) found for signature:\n",
      " \n",
      " >>> uniform(size=int64)\n",
      " \n",
      "There are 8 candidate implementations:\n",
      "  - Of which 2 did not match due to:\n",
      "  Overload in function 'np_uniform_impl0': File: numba/cpython/randomimpl.py: Line 622.\n",
      "    With argument(s): '(size=int64)':\n",
      "   Rejected as the implementation raised a specific error:\n",
      "     TypingError: got an unexpected keyword argument 'size'\n",
      "  raised from /home/nicholas/Environments/pytorch/lib/python3.11/site-packages/numba/core/typing/templates.py:784\n",
      "  - Of which 6 did not match due to:\n",
      "  Overload in function 'np_uniform_impl1': File: numba/cpython/randomimpl.py: Line 633.\n",
      "    With argument(s): '(size=int64)':\n",
      "   Rejected as the implementation raised a specific error:\n",
      "     TypingError: missing a required argument: 'low'\n",
      "  raised from /home/nicholas/Environments/pytorch/lib/python3.11/site-packages/numba/core/typing/templates.py:784\n",
      "\n",
      "During: resolving callee type: Function(<built-in method uniform of numpy.random.mtrand.RandomState object at 0x7f409a933640>)\n",
      "During: typing of call at /tmp/ipykernel_97137/4110670031.py (38)\n",
      "\n",
      "\n",
      "File \"../../../../../tmp/ipykernel_97137/4110670031.py\", line 38:\n",
      "<source missing, REPL/exec in use?>\n",
      "\n",
      "  @jit\n",
      "/tmp/ipykernel_97137/4110670031.py:22: NumbaWarning: \n",
      "Compilation is falling back to object mode WITHOUT looplifting enabled because Function \"simulate_gbm_1_shoot_ss_jit\" failed type inference due to: Cannot determine Numba type of <class 'numba.core.dispatcher.LiftedLoop'>\n",
      "\n",
      "File \"../../../../../tmp/ipykernel_97137/4110670031.py\", line 37:\n",
      "<source missing, REPL/exec in use?>\n",
      "\n",
      "  @jit\n",
      "/home/nicholas/Environments/pytorch/lib/python3.11/site-packages/numba/core/object_mode_passes.py:151: NumbaWarning: Function \"simulate_gbm_1_shoot_ss_jit\" was compiled in object mode without forceobj=True, but has lifted loops.\n",
      "\n",
      "File \"../../../../../tmp/ipykernel_97137/4110670031.py\", line 22:\n",
      "<source missing, REPL/exec in use?>\n",
      "\n",
      "  warnings.warn(errors.NumbaWarning(warn_msg,\n",
      "/home/nicholas/Environments/pytorch/lib/python3.11/site-packages/numba/core/object_mode_passes.py:161: NumbaDeprecationWarning: \n",
      "Fall-back from the nopython compilation path to the object mode compilation path has been detected. This is deprecated behaviour that will be removed in Numba 0.59.0.\n",
      "\n",
      "For more information visit https://numba.readthedocs.io/en/stable/reference/deprecation.html#deprecation-of-object-mode-fall-back-behaviour-when-using-jit\n",
      "\n",
      "File \"../../../../../tmp/ipykernel_97137/4110670031.py\", line 22:\n",
      "<source missing, REPL/exec in use?>\n",
      "\n",
      "  warnings.warn(errors.NumbaDeprecationWarning(msg,\n",
      "/tmp/ipykernel_97137/4110670031.py:22: NumbaWarning: \n",
      "Compilation is falling back to object mode WITHOUT looplifting enabled because Function \"simulate_gbm_1_shoot_ss_jit\" failed type inference due to: No implementation of function Function(<built-in method uniform of numpy.random.mtrand.RandomState object at 0x7f409a933640>) found for signature:\n",
      " \n",
      " >>> uniform(size=int64)\n",
      " \n",
      "There are 8 candidate implementations:\n",
      "    - Of which 2 did not match due to:\n",
      "    Overload in function 'np_uniform_impl0': File: numba/cpython/randomimpl.py: Line 622.\n",
      "      With argument(s): '(size=int64)':\n",
      "     Rejected as the implementation raised a specific error:\n",
      "       TypingError: got an unexpected keyword argument 'size'\n",
      "  raised from /home/nicholas/Environments/pytorch/lib/python3.11/site-packages/numba/core/typing/templates.py:784\n",
      "    - Of which 6 did not match due to:\n",
      "    Overload in function 'np_uniform_impl1': File: numba/cpython/randomimpl.py: Line 633.\n",
      "      With argument(s): '(size=int64)':\n",
      "     Rejected as the implementation raised a specific error:\n",
      "       TypingError: missing a required argument: 'low'\n",
      "  raised from /home/nicholas/Environments/pytorch/lib/python3.11/site-packages/numba/core/typing/templates.py:784\n",
      "\n",
      "During: resolving callee type: Function(<built-in method uniform of numpy.random.mtrand.RandomState object at 0x7f409a933640>)\n",
      "During: typing of call at /tmp/ipykernel_97137/4110670031.py (38)\n",
      "\n",
      "\n",
      "File \"../../../../../tmp/ipykernel_97137/4110670031.py\", line 38:\n",
      "<source missing, REPL/exec in use?>\n",
      "\n",
      "  @jit\n",
      "/home/nicholas/Environments/pytorch/lib/python3.11/site-packages/numba/core/object_mode_passes.py:151: NumbaWarning: Function \"simulate_gbm_1_shoot_ss_jit\" was compiled in object mode without forceobj=True.\n",
      "\n",
      "File \"../../../../../tmp/ipykernel_97137/4110670031.py\", line 37:\n",
      "<source missing, REPL/exec in use?>\n",
      "\n",
      "  warnings.warn(errors.NumbaWarning(warn_msg,\n",
      "/home/nicholas/Environments/pytorch/lib/python3.11/site-packages/numba/core/object_mode_passes.py:161: NumbaDeprecationWarning: \n",
      "Fall-back from the nopython compilation path to the object mode compilation path has been detected. This is deprecated behaviour that will be removed in Numba 0.59.0.\n",
      "\n",
      "For more information visit https://numba.readthedocs.io/en/stable/reference/deprecation.html#deprecation-of-object-mode-fall-back-behaviour-when-using-jit\n",
      "\n",
      "File \"../../../../../tmp/ipykernel_97137/4110670031.py\", line 37:\n",
      "<source missing, REPL/exec in use?>\n",
      "\n",
      "  warnings.warn(errors.NumbaDeprecationWarning(msg,\n",
      "100%|███████████████████████████████████████████| 62/62 [00:01<00:00, 57.62it/s]"
     ]
    },
    {
     "name": "stdout",
     "output_type": "stream",
     "text": [
      "Time taken (SS): 1.0782798530017317s\n",
      "\n",
      "Note Value (SS) on 2023-08-09: 1412.392716550237\n",
      "Estimate Variance: 166.2635880563776\n",
      "95% Confidence Interval: [1387.1198417656508, 1437.6655913348234]\n"
     ]
    },
    {
     "name": "stderr",
     "output_type": "stream",
     "text": [
      "\n"
     ]
    }
   ],
   "source": [
    "ss_means = []\n",
    "ss_vars = []\n",
    "\n",
    "n_strata = 5\n",
    "n_sim_s = Nsim // n_strata\n",
    "\n",
    "ss_jit_start = time.perf_counter()\n",
    "for date in tqdm(dates):       \n",
    "    sim_S_SS_jit = simulate_gbm_1_shoot_ss_jit(n_strata, n_sim_s, St, v, sigma, T)\n",
    "    sim_S_SS_df = pd.DataFrame(sim_S_SS_jit)\n",
    "    \n",
    "    sim_Note_SS = np.exp(-r*T)*sim_S_SS_df.apply(PayoffFunctions.payoff_original, axis=1)\n",
    "    note_SS = np.mean(sim_Note_SS)\n",
    "    note_SS_var = np.var(sim_Note_SS)/Nsim\n",
    "    ss_means.append(note_SS)\n",
    "    ss_vars.append(note_SS_var)\n",
    "    \n",
    "ss_jit_end = time.perf_counter()\n",
    "print(f\"Time taken (SS): {ss_jit_end - ss_jit_start}s\\n\")\n",
    "\n",
    "lower_percentile = ss_means[0]-1.96*np.sqrt(ss_vars[0])\n",
    "higher_percentile = ss_means[0]+1.96*np.sqrt(ss_vars[0])\n",
    "print(f\"Note Value (SS) on {dates[0]}: {ss_means[0]}\")\n",
    "print(f\"Estimate Variance: {ss_vars[0]}\")\n",
    "print(f\"95% Confidence Interval: [{lower_percentile}, {higher_percentile}]\")\n",
    "predicted_derivative_dict['SS_Mean'] = ss_means\n",
    "predicted_derivative_dict['SS_Var'] = ss_vars"
   ]
  },
  {
   "cell_type": "markdown",
   "metadata": {},
   "source": [
    "### Empirical Martingale Simulation"
   ]
  },
  {
   "cell_type": "code",
   "execution_count": 21,
   "metadata": {},
   "outputs": [
    {
     "name": "stderr",
     "output_type": "stream",
     "text": [
      "/tmp/ipykernel_97137/2346715112.py:1: NumbaDeprecationWarning: The 'nopython' keyword argument was not supplied to the 'numba.jit' decorator. The implicit default value for this argument is currently False, but it will be changed to True in Numba 0.59.0. See https://numba.readthedocs.io/en/stable/reference/deprecation.html#deprecation-of-object-mode-fall-back-behaviour-when-using-jit for details.\n",
      "  @jit\n"
     ]
    }
   ],
   "source": [
    "@jit\n",
    "def simulate_gbm_ems(sim_paths, delta_t, r):\n",
    "    '''\n",
    "    GBM simulation using Empirical Martingale Simulation\n",
    "\n",
    "    Takes in the following parameters:\n",
    "    - sim_paths (np.array): List of paths generated from `simulate_gbm_exact`, shape: (n_sim, n_periods+1)\n",
    "    - delta_t (float): Value of one timestep (e.g. 1/252, 1 day out of 252 working days in a year)\n",
    "    - r (float): Risk-free interest rate\n",
    "    '''\n",
    "    n_sim = sim_paths.shape[0]\n",
    "    n_periods = sim_paths.shape[1] - 1\n",
    "    S = np.zeros((n_sim, n_periods+1))\n",
    "    Z = np.zeros((n_sim+1, n_periods))\n",
    "    S[:, 0] = sim_paths[:, 0]\n",
    "\n",
    "    for j in range(1, n_periods+1):\n",
    "        Z[:n_sim, j-1] = S[:,j-1]*sim_paths[:, j] / sim_paths[:, j-1]\n",
    "        Z[n_sim,j-1] = np.exp(-r*((j-1)*delta_t)) * np.mean(Z[:n_sim,j-1])\n",
    "        S[:,j] = sim_paths[:, 0] * Z[:n_sim, j-1] / Z[n_sim, j-1]\n",
    "    return S"
   ]
  },
  {
   "cell_type": "code",
   "execution_count": 22,
   "metadata": {},
   "outputs": [
    {
     "name": "stderr",
     "output_type": "stream",
     "text": [
      "100%|███████████████████████████████████████████| 62/62 [00:03<00:00, 16.60it/s]"
     ]
    },
    {
     "name": "stdout",
     "output_type": "stream",
     "text": [
      "Time taken (EMS): 3.735671483002079s\n",
      "\n",
      "Note Value (EMS) on 2023-08-09: 1414.121337706192\n",
      "Estimate Variance: 164.90587669454962\n",
      "95% Confidence Interval: [1388.9518638159857, 1439.2908115963983]\n"
     ]
    },
    {
     "name": "stderr",
     "output_type": "stream",
     "text": [
      "\n"
     ]
    }
   ],
   "source": [
    "ems_means = []\n",
    "ems_vars = []\n",
    "\n",
    "ems_jit_start = time.perf_counter()\n",
    "\n",
    "for date in tqdm(dates):\n",
    "    sim_S = simulate_gbm_exact_jit(Nsim, St, v, sigma, dt, T)\n",
    "    sim_S_EMS = simulate_gbm_ems(sim_S, dt, r)\n",
    "    sim_S_EMS_df = pd.DataFrame(sim_S_EMS)\n",
    "    \n",
    "    sim_Note_EMS = np.exp(-r*T)*sim_S_EMS_df.apply(PayoffFunctions.payoff_original, axis=1)\n",
    "    note_EMS = np.mean(sim_Note_EMS)\n",
    "    note_EMS_var = np.var(sim_Note_EMS)/Nsim\n",
    "    \n",
    "    ems_means.append(note_EMS)\n",
    "    ems_vars.append(note_EMS_var)\n",
    "ems_jit_end = time.perf_counter()\n",
    "print(f\"Time taken (EMS): {ems_jit_end - ems_jit_start}s\\n\")\n",
    "\n",
    "lower_percentile = ems_means[0]-1.96*np.sqrt(ems_vars[0])\n",
    "higher_percentile = ems_means[0]+1.96*np.sqrt(ems_vars[0])\n",
    "print(f\"Note Value (EMS) on {dates[0]}: {ems_means[0]}\")\n",
    "print(f\"Estimate Variance: {ems_vars[0]}\")\n",
    "print(f\"95% Confidence Interval: [{lower_percentile}, {higher_percentile}]\")\n",
    "predicted_derivative_dict['EMS_Mean'] = ems_means\n",
    "predicted_derivative_dict['EMS_Var'] = ems_vars"
   ]
  },
  {
   "cell_type": "markdown",
   "metadata": {},
   "source": [
    "## Comparison - Predicted vs Actual Derivative price"
   ]
  },
  {
   "cell_type": "markdown",
   "metadata": {},
   "source": [
    "We import the actual derivative price data, scraped from the Credit Suisse page for comparison against our predicted derivative price:"
   ]
  },
  {
   "cell_type": "code",
   "execution_count": 23,
   "metadata": {},
   "outputs": [
    {
     "data": {
      "text/html": [
       "<div>\n",
       "<style scoped>\n",
       "    .dataframe tbody tr th:only-of-type {\n",
       "        vertical-align: middle;\n",
       "    }\n",
       "\n",
       "    .dataframe tbody tr th {\n",
       "        vertical-align: top;\n",
       "    }\n",
       "\n",
       "    .dataframe thead th {\n",
       "        text-align: right;\n",
       "    }\n",
       "</style>\n",
       "<table border=\"1\" class=\"dataframe\">\n",
       "  <thead>\n",
       "    <tr style=\"text-align: right;\">\n",
       "      <th></th>\n",
       "      <th>date</th>\n",
       "      <th>value</th>\n",
       "    </tr>\n",
       "  </thead>\n",
       "  <tbody>\n",
       "    <tr>\n",
       "      <th>0</th>\n",
       "      <td>2022-07-15</td>\n",
       "      <td>1004.94</td>\n",
       "    </tr>\n",
       "    <tr>\n",
       "      <th>1</th>\n",
       "      <td>2022-07-18</td>\n",
       "      <td>1014.34</td>\n",
       "    </tr>\n",
       "    <tr>\n",
       "      <th>2</th>\n",
       "      <td>2022-07-19</td>\n",
       "      <td>1038.38</td>\n",
       "    </tr>\n",
       "    <tr>\n",
       "      <th>3</th>\n",
       "      <td>2022-07-20</td>\n",
       "      <td>1035.84</td>\n",
       "    </tr>\n",
       "    <tr>\n",
       "      <th>4</th>\n",
       "      <td>2022-07-21</td>\n",
       "      <td>1038.86</td>\n",
       "    </tr>\n",
       "    <tr>\n",
       "      <th>...</th>\n",
       "      <td>...</td>\n",
       "      <td>...</td>\n",
       "    </tr>\n",
       "    <tr>\n",
       "      <th>330</th>\n",
       "      <td>2023-11-06</td>\n",
       "      <td>1225.93</td>\n",
       "    </tr>\n",
       "    <tr>\n",
       "      <th>331</th>\n",
       "      <td>2023-11-07</td>\n",
       "      <td>1224.44</td>\n",
       "    </tr>\n",
       "    <tr>\n",
       "      <th>332</th>\n",
       "      <td>2023-11-08</td>\n",
       "      <td>1232.53</td>\n",
       "    </tr>\n",
       "    <tr>\n",
       "      <th>333</th>\n",
       "      <td>2023-11-09</td>\n",
       "      <td>1251.19</td>\n",
       "    </tr>\n",
       "    <tr>\n",
       "      <th>334</th>\n",
       "      <td>2023-11-10</td>\n",
       "      <td>1239.05</td>\n",
       "    </tr>\n",
       "  </tbody>\n",
       "</table>\n",
       "<p>335 rows × 2 columns</p>\n",
       "</div>"
      ],
      "text/plain": [
       "           date    value\n",
       "0    2022-07-15  1004.94\n",
       "1    2022-07-18  1014.34\n",
       "2    2022-07-19  1038.38\n",
       "3    2022-07-20  1035.84\n",
       "4    2022-07-21  1038.86\n",
       "..          ...      ...\n",
       "330  2023-11-06  1225.93\n",
       "331  2023-11-07  1224.44\n",
       "332  2023-11-08  1232.53\n",
       "333  2023-11-09  1251.19\n",
       "334  2023-11-10  1239.05\n",
       "\n",
       "[335 rows x 2 columns]"
      ]
     },
     "execution_count": 23,
     "metadata": {},
     "output_type": "execute_result"
    }
   ],
   "source": [
    "actual_derivative_df = pd.read_csv('Outperformance_Bonus_Certificate_EURO_STOXX_50.csv')\n",
    "actual_derivative_df"
   ]
  },
  {
   "cell_type": "code",
   "execution_count": 24,
   "metadata": {},
   "outputs": [
    {
     "data": {
      "image/png": "[encoded data removed]",
      "text/plain": [
       "<Figure size 640x480 with 1 Axes>"
      ]
     },
     "metadata": {},
     "output_type": "display_data"
    }
   ],
   "source": [
    "import matplotlib.dates as mdates\n",
    "\n",
    "actual_derivative_range_df = actual_derivative_df[actual_derivative_df['date'].isin(dates)]\n",
    "predicted_derivative_df = pd.DataFrame(predicted_derivative_dict)\n",
    "\n",
    "plt.plot(actual_derivative_range_df['date'], actual_derivative_range_df['value'], label='Actual Derivative Price')\n",
    "plt.plot(predicted_derivative_df['date'], predicted_derivative_df['MC_Mean'], label='Monte Carlo')\n",
    "plt.plot(predicted_derivative_df['date'], predicted_derivative_df['AV_Mean'], label='Antithetic Variate')\n",
    "plt.plot(predicted_derivative_df['date'], predicted_derivative_df['CV_Mean'], label='Control Variate')\n",
    "plt.plot(predicted_derivative_df['date'], predicted_derivative_df['SS_Mean'], label='1-shoot Stratified Sampling')\n",
    "plt.plot(predicted_derivative_df['date'], predicted_derivative_df['EMS_Mean'], label='Empirical Martingale Correction')\n",
    "plt.legend()\n",
    "plt.title(\"Actual vs Predicted Derivative Prices\")\n",
    "plt.xlabel(\"Date\")\n",
    "plt.xticks(rotation=90)\n",
    "plt.ylabel(\"Derivative Price ($)\")\n",
    "plt.gca().xaxis.set_major_locator(mdates.DayLocator(interval=2))\n",
    "# plt.gca().xaxis.set_major_formatter(date_formatter)\n",
    "plt.show()"
   ]
  },
  {
   "cell_type": "code",
   "execution_count": 25,
   "metadata": {},
   "outputs": [
    {
     "data": {
      "text/plain": [
       "62"
      ]
     },
     "execution_count": 25,
     "metadata": {},
     "output_type": "execute_result"
    }
   ],
   "source": [
    "len(predicted_derivative_dict['CV_Mean'])"
   ]
  },
  {
   "cell_type": "code",
   "execution_count": 26,
   "metadata": {},
   "outputs": [],
   "source": [
    "# TODO: Calculate difference for each method used\n"
   ]
  },
  {
   "cell_type": "markdown",
   "metadata": {},
   "source": [
    "The above plot shows that our GBM model overestimates the actual derivative price by more than EUR100, which indicates that our model differs greatly from the model that Credit Suisse uses to price their own option."
   ]
  }
 ],
 "metadata": {
  "kernelspec": {
   "display_name": "Python 3 (ipykernel)",
   "language": "python",
   "name": "python3"
  },
  "language_info": {
   "codemirror_mode": {
    "name": "ipython",
    "version": 3
   },
   "file_extension": ".py",
   "mimetype": "text/x-python",
   "name": "python",
   "nbconvert_exporter": "python",
   "pygments_lexer": "ipython3",
   "version": "3.11.4"
  }
 },
 "nbformat": 4,
 "nbformat_minor": 4
}
