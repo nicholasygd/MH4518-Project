{
 "cells": [
  {
   "cell_type": "markdown",
   "metadata": {},
   "source": [
    "# EURO STOXX50 - Base GBM Model"
   ]
  },
  {
   "cell_type": "markdown",
   "metadata": {},
   "source": [
    "In this notebook, we detail our implementation of our base Geometric Brownian Motion model for the [Outperformance Bonus Certificate EURO STOXX 50](https://derivative.credit-suisse.com/ch/ch/en/detail/outperformance-bonus-certificate-euro-stoxx-50/CH1149494077/114949407), a derivative of the SX5E stock."
   ]
  },
  {
   "cell_type": "markdown",
   "metadata": {},
   "source": [
    "For our risk-neutral valuation, we perform the following:\n",
    "1) Look back M time steps for historical data (given an M of 252, we'll take the subset of data from 11 August 2022 to 9 August 2023)\n",
    "2) Estimate our model parameters ($\\sigma = \\sqrt{sample\\ variance}$) from historical data for the GBM model)\n",
    "3) Plug our estimated model parameters into our simulation functions and simulate N simulations from 10 August 2023 to our maturity date (e.g. monte carlo, monte carlo with antithetic variates)\n",
    "4) Calculate our predicted stock price using the mean of the N simulations on our maturity date\n",
    "5) Calculate our option price by pulling back from the predicted stock price"
   ]
  },
  {
   "cell_type": "markdown",
   "metadata": {},
   "source": [
    "## Importing Data"
   ]
  },
  {
   "cell_type": "code",
   "execution_count": 1,
   "metadata": {},
   "outputs": [],
   "source": [
    "# External Libraries\n",
    "import pandas as pd\n",
    "import numpy as np\n",
    "import matplotlib.pyplot as plt\n",
    "from tqdm import tqdm\n",
    "import scipy\n",
    "from numba import jit, njit, prange\n",
    "import time\n",
    "import datetime\n",
    "import warnings\n",
    "import concurrent.futures\n",
    "import multiprocessing\n",
    "import ctypes\n",
    "\n",
    "warnings.filterwarnings(\"ignore\") # Suppress warnings from numba\n",
    "\n",
    "# Our Code\n",
    "from payoff_function import PayoffFunctions"
   ]
  },
  {
   "cell_type": "markdown",
   "metadata": {},
   "source": [
    "We import our historical stock data, taken from [Yahoo Finance's STOXX50E](https://finance.yahoo.com/quote/%5ESTOXX50E/) into a Pandas dataframe called `S_all`:"
   ]
  },
  {
   "cell_type": "code",
   "execution_count": 2,
   "metadata": {},
   "outputs": [],
   "source": [
    "DATA_FOLDER = \"../Data\"\n",
    "S_all = pd.read_csv(f\"{DATA_FOLDER}/STOXX50E_2Aug2022_13Nov2023.csv\")\n",
    "S_all = S_all[['Date', 'Adj Close']]"
   ]
  },
  {
   "cell_type": "markdown",
   "metadata": {},
   "source": [
    "We then import the Euro area yields with 1-year maturity period, taken from the [European Central Bank data portal](https://www.ecb.europa.eu/stats/financial_markets_and_interest_rates/euro_area_yield_curves/html/index.en.html), as data for our risk-free interest rate:"
   ]
  },
  {
   "cell_type": "code",
   "execution_count": 3,
   "metadata": {},
   "outputs": [
    {
     "data": {
      "text/html": [
       "<div>\n",
       "<style scoped>\n",
       "    .dataframe tbody tr th:only-of-type {\n",
       "        vertical-align: middle;\n",
       "    }\n",
       "\n",
       "    .dataframe tbody tr th {\n",
       "        vertical-align: top;\n",
       "    }\n",
       "\n",
       "    .dataframe thead th {\n",
       "        text-align: right;\n",
       "    }\n",
       "</style>\n",
       "<table border=\"1\" class=\"dataframe\">\n",
       "  <thead>\n",
       "    <tr style=\"text-align: right;\">\n",
       "      <th></th>\n",
       "      <th>Date</th>\n",
       "      <th>Date String</th>\n",
       "      <th>Interest Rate</th>\n",
       "    </tr>\n",
       "  </thead>\n",
       "  <tbody>\n",
       "    <tr>\n",
       "      <th>0</th>\n",
       "      <td>2004-09-06</td>\n",
       "      <td>06 Sep 2004</td>\n",
       "      <td>2.298838</td>\n",
       "    </tr>\n",
       "    <tr>\n",
       "      <th>1</th>\n",
       "      <td>2004-09-07</td>\n",
       "      <td>07 Sep 2004</td>\n",
       "      <td>2.328891</td>\n",
       "    </tr>\n",
       "    <tr>\n",
       "      <th>2</th>\n",
       "      <td>2004-09-08</td>\n",
       "      <td>08 Sep 2004</td>\n",
       "      <td>2.346666</td>\n",
       "    </tr>\n",
       "    <tr>\n",
       "      <th>3</th>\n",
       "      <td>2004-09-09</td>\n",
       "      <td>09 Sep 2004</td>\n",
       "      <td>2.308988</td>\n",
       "    </tr>\n",
       "    <tr>\n",
       "      <th>4</th>\n",
       "      <td>2004-09-10</td>\n",
       "      <td>10 Sep 2004</td>\n",
       "      <td>2.271566</td>\n",
       "    </tr>\n",
       "    <tr>\n",
       "      <th>...</th>\n",
       "      <td>...</td>\n",
       "      <td>...</td>\n",
       "      <td>...</td>\n",
       "    </tr>\n",
       "    <tr>\n",
       "      <th>4903</th>\n",
       "      <td>2023-11-07</td>\n",
       "      <td>07 Nov 2023</td>\n",
       "      <td>3.443486</td>\n",
       "    </tr>\n",
       "    <tr>\n",
       "      <th>4904</th>\n",
       "      <td>2023-11-08</td>\n",
       "      <td>08 Nov 2023</td>\n",
       "      <td>3.429405</td>\n",
       "    </tr>\n",
       "    <tr>\n",
       "      <th>4905</th>\n",
       "      <td>2023-11-09</td>\n",
       "      <td>09 Nov 2023</td>\n",
       "      <td>3.442951</td>\n",
       "    </tr>\n",
       "    <tr>\n",
       "      <th>4906</th>\n",
       "      <td>2023-11-10</td>\n",
       "      <td>10 Nov 2023</td>\n",
       "      <td>3.494435</td>\n",
       "    </tr>\n",
       "    <tr>\n",
       "      <th>4907</th>\n",
       "      <td>2023-11-13</td>\n",
       "      <td>13 Nov 2023</td>\n",
       "      <td>3.487610</td>\n",
       "    </tr>\n",
       "  </tbody>\n",
       "</table>\n",
       "<p>4908 rows × 3 columns</p>\n",
       "</div>"
      ],
      "text/plain": [
       "            Date  Date String  Interest Rate\n",
       "0     2004-09-06  06 Sep 2004       2.298838\n",
       "1     2004-09-07  07 Sep 2004       2.328891\n",
       "2     2004-09-08  08 Sep 2004       2.346666\n",
       "3     2004-09-09  09 Sep 2004       2.308988\n",
       "4     2004-09-10  10 Sep 2004       2.271566\n",
       "...          ...          ...            ...\n",
       "4903  2023-11-07  07 Nov 2023       3.443486\n",
       "4904  2023-11-08  08 Nov 2023       3.429405\n",
       "4905  2023-11-09  09 Nov 2023       3.442951\n",
       "4906  2023-11-10  10 Nov 2023       3.494435\n",
       "4907  2023-11-13  13 Nov 2023       3.487610\n",
       "\n",
       "[4908 rows x 3 columns]"
      ]
     },
     "execution_count": 3,
     "metadata": {},
     "output_type": "execute_result"
    }
   ],
   "source": [
    "ir = pd.read_csv(f\"{DATA_FOLDER}/euro_area_1_year_yield_curve.csv\").rename(columns={\"DATE\": \"Date\", \"TIME PERIOD\": \"Date String\", \"Yield curve spot rate, 1-year maturity - Government bond, nominal, all issuers whose rating is triple A - Euro area (changing composition) (YC.B.U2.EUR.4F.G_N_A.SV_C_YM.SR_1Y)\": \"Interest Rate\"})\n",
    "ir"
   ]
  },
  {
   "cell_type": "markdown",
   "metadata": {},
   "source": [
    "Our timestep (dt) is defined as $\\frac{1}{252}$, indicating 1 day out of 252 working days in a year."
   ]
  },
  {
   "cell_type": "code",
   "execution_count": 4,
   "metadata": {},
   "outputs": [],
   "source": [
    "dt = 1/252"
   ]
  },
  {
   "cell_type": "markdown",
   "metadata": {},
   "source": [
    "We define our dates of interest as the dates between 9 Aug 2023 and 9 Nov 2023 (66 days in total):"
   ]
  },
  {
   "cell_type": "code",
   "execution_count": 5,
   "metadata": {},
   "outputs": [
    {
     "name": "stdout",
     "output_type": "stream",
     "text": [
      "Days in Total: 66\n"
     ]
    }
   ],
   "source": [
    "actual_dates = ir[(ir['Date'] >= '2023-08-09') & (ir['Date'] <= '2023-11-09')]['Date'].values\n",
    "print(f\"Days in Total: {len(actual_dates)}\")"
   ]
  },
  {
   "attachments": {},
   "cell_type": "markdown",
   "metadata": {},
   "source": [
    "## Obtaining Model Parameters from Historical Data\n",
    "For our base GBM model, we are only interested in $\\sigma$, the sample variance of our historical data for each day.\n",
    "\n",
    "For each day in the sliding window (from 9 Aug 2023 to 9 Nov 2023, 66 days in total), we look back M days and calculate $\\sigma$. "
   ]
  },
  {
   "cell_type": "code",
   "execution_count": 7,
   "metadata": {},
   "outputs": [
    {
     "name": "stdout",
     "output_type": "stream",
     "text": [
      "M: 21 - sigma (2023-08-09): 0.1721991002559662, sigma (2023-11-09): 0.13019900023937225, sigma (average): 0.13611777126789093\n",
      "M: 63 - sigma (2023-08-09): 0.1524956226348877, sigma (2023-11-09): 0.12539911270141602, sigma (average): 0.14484648406505585\n",
      "M: 252 - sigma (2023-08-09): 0.1707075983285904, sigma (2023-11-09): 0.1513691544532776, sigma (average): 0.1620490998029709\n"
     ]
    }
   ],
   "source": [
    "# Main Parameters\n",
    "M = [21, 63, 252]\n",
    "\n",
    "for M_value in M:\n",
    "    sigma = np.zeros(len(actual_dates), dtype=np.float32)\n",
    "    for i, date in enumerate(actual_dates):\n",
    "        date_index = S_all.loc[S_all['Date'] == date].index[0]\n",
    "        history_data = list(S_all.iloc[date_index-M_value:date_index, ]['Adj Close'])\n",
    "        log_history_data = np.log(history_data)\n",
    "        log_return = log_history_data[1:] - log_history_data[:-1]\n",
    "        sigma[i] = np.std(log_return) / np.sqrt(dt)\n",
    "    print(f\"M: {M_value} - sigma ({actual_dates[0]}): {sigma[0]}, sigma ({actual_dates[-1]}): {sigma[-1]}, sigma (average): {sigma.mean()}\")"
   ]
  },
  {
   "cell_type": "code",
   "execution_count": null,
   "metadata": {},
   "outputs": [],
   "source": []
  }
 ],
 "metadata": {
  "kernelspec": {
   "display_name": "Python 3 (ipykernel)",
   "language": "python",
   "name": "python3"
  },
  "language_info": {
   "codemirror_mode": {
    "name": "ipython",
    "version": 3
   },
   "file_extension": ".py",
   "mimetype": "text/x-python",
   "name": "python",
   "nbconvert_exporter": "python",
   "pygments_lexer": "ipython3",
   "version": "3.11.4"
  }
 },
 "nbformat": 4,
 "nbformat_minor": 4
}
