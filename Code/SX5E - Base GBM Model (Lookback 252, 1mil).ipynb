{
 "cells": [
  {
   "cell_type": "markdown",
   "metadata": {},
   "source": [
    "# EURO STOXX50 - Base GBM Model"
   ]
  },
  {
   "cell_type": "markdown",
   "metadata": {},
   "source": [
    "In this notebook, we detail our implementation of our base Geometric Brownian Motion model for the [Outperformance Bonus Certificate EURO STOXX 50](https://derivative.credit-suisse.com/ch/ch/en/detail/outperformance-bonus-certificate-euro-stoxx-50/CH1149494077/114949407), a derivative of the SX5E stock."
   ]
  },
  {
   "cell_type": "markdown",
   "metadata": {},
   "source": [
    "For our risk-neutral valuation, we perform the following:\n",
    "1) Look back M time steps for historical data (given an M of 252, we'll take the subset of data from 11 August 2022 to 9 August 2023)\n",
    "2) Estimate our model parameters ($\\sigma = \\sqrt{sample\\ variance}$) from historical data for the GBM model)\n",
    "3) Plug our estimated model parameters into our simulation functions and simulate N simulations from 10 August 2023 to our maturity date (e.g. monte carlo, monte carlo with antithetic variates)\n",
    "4) Calculate our predicted stock price using the mean of the N simulations on our maturity date\n",
    "5) Calculate our option price by pulling back from the predicted stock price"
   ]
  },
  {
   "cell_type": "markdown",
   "metadata": {},
   "source": [
    "## Importing Data"
   ]
  },
  {
   "cell_type": "code",
   "execution_count": 1,
   "metadata": {},
   "outputs": [],
   "source": [
    "# External Libraries\n",
    "import pandas as pd\n",
    "import numpy as np\n",
    "import matplotlib.pyplot as plt\n",
    "from tqdm import tqdm\n",
    "import scipy\n",
    "from numba import jit, njit, prange\n",
    "import time\n",
    "import datetime\n",
    "import warnings\n",
    "import concurrent.futures\n",
    "import multiprocessing\n",
    "import ctypes\n",
    "\n",
    "warnings.filterwarnings(\"ignore\") # Suppress warnings from numba\n",
    "\n",
    "# Our Code\n",
    "from payoff_function import PayoffFunctions"
   ]
  },
  {
   "cell_type": "markdown",
   "metadata": {},
   "source": [
    "We import our historical stock data, taken from [Yahoo Finance's STOXX50E](https://finance.yahoo.com/quote/%5ESTOXX50E/) into a Pandas dataframe called `S_all`:"
   ]
  },
  {
   "cell_type": "code",
   "execution_count": 2,
   "metadata": {},
   "outputs": [],
   "source": [
    "S_all = pd.read_csv(\"STOXX50E_2Aug2022_13Nov2023.csv\")\n",
    "S_all = S_all[['Date', 'Adj Close']]"
   ]
  },
  {
   "cell_type": "markdown",
   "metadata": {},
   "source": [
    "We then import the Euro area yields with 1-year maturity period, taken from the [European Central Bank data portal](https://www.ecb.europa.eu/stats/financial_markets_and_interest_rates/euro_area_yield_curves/html/index.en.html), as data for our risk-free interest rate:"
   ]
  },
  {
   "cell_type": "code",
   "execution_count": 3,
   "metadata": {},
   "outputs": [
    {
     "data": {
      "text/html": [
       "<div>\n",
       "<style scoped>\n",
       "    .dataframe tbody tr th:only-of-type {\n",
       "        vertical-align: middle;\n",
       "    }\n",
       "\n",
       "    .dataframe tbody tr th {\n",
       "        vertical-align: top;\n",
       "    }\n",
       "\n",
       "    .dataframe thead th {\n",
       "        text-align: right;\n",
       "    }\n",
       "</style>\n",
       "<table border=\"1\" class=\"dataframe\">\n",
       "  <thead>\n",
       "    <tr style=\"text-align: right;\">\n",
       "      <th></th>\n",
       "      <th>Date</th>\n",
       "      <th>Date String</th>\n",
       "      <th>Interest Rate</th>\n",
       "    </tr>\n",
       "  </thead>\n",
       "  <tbody>\n",
       "    <tr>\n",
       "      <th>0</th>\n",
       "      <td>2004-09-06</td>\n",
       "      <td>06 Sep 2004</td>\n",
       "      <td>2.298838</td>\n",
       "    </tr>\n",
       "    <tr>\n",
       "      <th>1</th>\n",
       "      <td>2004-09-07</td>\n",
       "      <td>07 Sep 2004</td>\n",
       "      <td>2.328891</td>\n",
       "    </tr>\n",
       "    <tr>\n",
       "      <th>2</th>\n",
       "      <td>2004-09-08</td>\n",
       "      <td>08 Sep 2004</td>\n",
       "      <td>2.346666</td>\n",
       "    </tr>\n",
       "    <tr>\n",
       "      <th>3</th>\n",
       "      <td>2004-09-09</td>\n",
       "      <td>09 Sep 2004</td>\n",
       "      <td>2.308988</td>\n",
       "    </tr>\n",
       "    <tr>\n",
       "      <th>4</th>\n",
       "      <td>2004-09-10</td>\n",
       "      <td>10 Sep 2004</td>\n",
       "      <td>2.271566</td>\n",
       "    </tr>\n",
       "    <tr>\n",
       "      <th>...</th>\n",
       "      <td>...</td>\n",
       "      <td>...</td>\n",
       "      <td>...</td>\n",
       "    </tr>\n",
       "    <tr>\n",
       "      <th>4903</th>\n",
       "      <td>2023-11-07</td>\n",
       "      <td>07 Nov 2023</td>\n",
       "      <td>3.443486</td>\n",
       "    </tr>\n",
       "    <tr>\n",
       "      <th>4904</th>\n",
       "      <td>2023-11-08</td>\n",
       "      <td>08 Nov 2023</td>\n",
       "      <td>3.429405</td>\n",
       "    </tr>\n",
       "    <tr>\n",
       "      <th>4905</th>\n",
       "      <td>2023-11-09</td>\n",
       "      <td>09 Nov 2023</td>\n",
       "      <td>3.442951</td>\n",
       "    </tr>\n",
       "    <tr>\n",
       "      <th>4906</th>\n",
       "      <td>2023-11-10</td>\n",
       "      <td>10 Nov 2023</td>\n",
       "      <td>3.494435</td>\n",
       "    </tr>\n",
       "    <tr>\n",
       "      <th>4907</th>\n",
       "      <td>2023-11-13</td>\n",
       "      <td>13 Nov 2023</td>\n",
       "      <td>3.487610</td>\n",
       "    </tr>\n",
       "  </tbody>\n",
       "</table>\n",
       "<p>4908 rows × 3 columns</p>\n",
       "</div>"
      ],
      "text/plain": [
       "            Date  Date String  Interest Rate\n",
       "0     2004-09-06  06 Sep 2004       2.298838\n",
       "1     2004-09-07  07 Sep 2004       2.328891\n",
       "2     2004-09-08  08 Sep 2004       2.346666\n",
       "3     2004-09-09  09 Sep 2004       2.308988\n",
       "4     2004-09-10  10 Sep 2004       2.271566\n",
       "...          ...          ...            ...\n",
       "4903  2023-11-07  07 Nov 2023       3.443486\n",
       "4904  2023-11-08  08 Nov 2023       3.429405\n",
       "4905  2023-11-09  09 Nov 2023       3.442951\n",
       "4906  2023-11-10  10 Nov 2023       3.494435\n",
       "4907  2023-11-13  13 Nov 2023       3.487610\n",
       "\n",
       "[4908 rows x 3 columns]"
      ]
     },
     "execution_count": 3,
     "metadata": {},
     "output_type": "execute_result"
    }
   ],
   "source": [
    "ir = pd.read_csv(\"euro_area_1_year_yield_curve.csv\").rename(columns={\"DATE\": \"Date\", \"TIME PERIOD\": \"Date String\", \"Yield curve spot rate, 1-year maturity - Government bond, nominal, all issuers whose rating is triple A - Euro area (changing composition) (YC.B.U2.EUR.4F.G_N_A.SV_C_YM.SR_1Y)\": \"Interest Rate\"})\n",
    "ir"
   ]
  },
  {
   "cell_type": "markdown",
   "metadata": {},
   "source": [
    "Our timestep (dt) is defined as $\\frac{1}{252}$, indicating 1 day out of 252 working days in a year."
   ]
  },
  {
   "cell_type": "code",
   "execution_count": 4,
   "metadata": {},
   "outputs": [],
   "source": [
    "dt = 1/252"
   ]
  },
  {
   "cell_type": "markdown",
   "metadata": {},
   "source": [
    "We define our dates of interest as the dates between 9 Aug 2023 and 9 Nov 2023 (66 days in total):"
   ]
  },
  {
   "cell_type": "code",
   "execution_count": 5,
   "metadata": {},
   "outputs": [
    {
     "name": "stdout",
     "output_type": "stream",
     "text": [
      "Days in Total: 66\n"
     ]
    }
   ],
   "source": [
    "actual_dates = ir[(ir['Date'] >= '2023-08-09') & (ir['Date'] <= '2023-11-09')]['Date'].values\n",
    "print(f\"Days in Total: {len(actual_dates)}\")"
   ]
  },
  {
   "attachments": {},
   "cell_type": "markdown",
   "metadata": {},
   "source": [
    "## Obtaining Model Parameters from Historical Data\n",
    "For our base GBM model, we are only interested in $\\sigma$, the sample variance of our historical data for each day.\n",
    "\n",
    "For each day in the sliding window (from 9 Aug 2023 to 9 Nov 2023, 66 days in total), we look back M days and calculate $\\sigma$. "
   ]
  },
  {
   "cell_type": "code",
   "execution_count": 6,
   "metadata": {},
   "outputs": [
    {
     "name": "stdout",
     "output_type": "stream",
     "text": [
      "M: 252\n",
      "No. of Simulations (Total): 1000000\n",
      "No. of Simulations (Calculating c* for CV method): 1000\n",
      "CPU Count: 5 used / 12 available\n",
      "CPU Count (EMS): 2 used / 12 available\n"
     ]
    }
   ],
   "source": [
    "# Main Parameters\n",
    "M = 252\n",
    "Nsim = 1000000\n",
    "n_control_simulations = 1000\n",
    "cpu_count = 5\n",
    "ems_cpu_count = 2\n",
    "print(f\"M: {M}\")\n",
    "print(f\"No. of Simulations (Total): {Nsim}\")\n",
    "print(f\"No. of Simulations (Calculating c* for CV method): {n_control_simulations}\")\n",
    "print(f\"CPU Count: {cpu_count} used / {multiprocessing.cpu_count()} available\")\n",
    "print(f\"CPU Count (EMS): {ems_cpu_count} used / {multiprocessing.cpu_count()} available\")"
   ]
  },
  {
   "cell_type": "code",
   "execution_count": 7,
   "metadata": {},
   "outputs": [],
   "source": [
    "sigma = np.zeros(len(actual_dates), dtype=np.float32)\n",
    "for i, date in enumerate(actual_dates):\n",
    "    date_index = S_all.loc[S_all['Date'] == date].index[0]\n",
    "    history_data = list(S_all.iloc[date_index-M:date_index, ]['Adj Close'])\n",
    "    log_history_data = np.log(history_data)\n",
    "    log_return = log_history_data[1:] - log_history_data[:-1]\n",
    "    sigma[i] = np.std(log_return) / np.sqrt(dt)"
   ]
  },
  {
   "cell_type": "code",
   "execution_count": 8,
   "metadata": {},
   "outputs": [],
   "source": [
    "r = ir[ir['Date'].isin(actual_dates)]['Interest Rate'].values / 100\n",
    "v = r - sigma**2 / 2\n",
    "St = S_all[S_all['Date'].isin(actual_dates)]['Adj Close'].values\n",
    "T = np.array(range(485, 485-len(actual_dates), -1)) / 252"
   ]
  },
  {
   "cell_type": "markdown",
   "metadata": {},
   "source": [
    "## Simulating data\n"
   ]
  },
  {
   "cell_type": "code",
   "execution_count": 9,
   "metadata": {},
   "outputs": [],
   "source": [
    "# TODO: Shift all simulation functions into a Python file\n",
    "def simulate_gbm_exact(n_sim, S_0, v, sigma, delta_t, T):\n",
    "    '''\n",
    "    GBM simulation using Monte Carlo\n",
    "\n",
    "    Takes in the following parameters:\n",
    "    - n_sim (integer): No. of simulations to generate\n",
    "    - S_0 (float): Price of S at time 0\n",
    "    - v (float): Given by (r - sigma^2 / 2), where r is the risk-free interest rate \n",
    "                 and sigma is the volatility calculated from historical data\n",
    "    - sigma (float): Volatility calculated from historical data (sqrt of variance)\n",
    "    - delta_t (float): Value of one timestep (e.g. 1 / 252, 1 day out of 252 working days in a year)\n",
    "    - T (float): End date, used to calculate no. of periods\n",
    "    '''\n",
    "    n_periods = int(T / delta_t)\n",
    "    S_t = np.full((n_sim, n_periods+1), S_0)\n",
    "    Z = np.random.normal(size=(n_sim, n_periods))\n",
    "\n",
    "    for i in tqdm(range(n_sim)):\n",
    "    # for i in range(n_sim):\n",
    "        for j in range(1, n_periods+1):\n",
    "            S_t[i][j] = S_t[i][j-1] * np.exp(v*delta_t + sigma*np.sqrt(delta_t)*Z[i][j-1])\n",
    "            # S_t[i][j] = S_t[i][j-1] * np.exp(v*delta_t - 0.5*(sigma**2)*delta_t + sigma*np.sqrt(delta_t)*Z[i][j-1])\n",
    "    return S_t\n",
    "\n",
    "@njit\n",
    "def simulate_gbm_exact_jit(n_sim, S_0, v, sigma, delta_t, T):\n",
    "    '''\n",
    "    GBM simulation using Monte Carlo\n",
    "\n",
    "    Takes in the following parameters:\n",
    "    - n_sim (integer): No. of simulations to generate\n",
    "    - S_0 (float): Price of S at time 0\n",
    "    - v (float): Given by (r - sigma^2 / 2), where r is the risk-free interest rate \n",
    "                 and sigma is the volatility calculated from historical data\n",
    "    - sigma (float): Volatility calculated from historical data (sqrt of variance)\n",
    "    - delta_t (float): Value of one timestep (e.g. 1 / 252, 1 day out of 252 working days in a year)\n",
    "    - T (float): End date, used to calculate no. of periods\n",
    "    '''\n",
    "    n_periods = int(T / delta_t)\n",
    "    S_t = np.full((n_sim, n_periods+1), S_0)\n",
    "\n",
    "    for i in range(n_sim):\n",
    "        for j in range(1, n_periods+1):\n",
    "            S_t[i][j] = S_t[i][j-1] * np.exp(v*delta_t + sigma*np.sqrt(delta_t)*np.random.normal())\n",
    "            # S_t[i][j] = S_t[i][j-1] * np.exp(v*delta_t - 0.5*(sigma**2)*delta_t + sigma*np.sqrt(delta_t)*np.random.normal())\n",
    "    return S_t"
   ]
  },
  {
   "cell_type": "code",
   "execution_count": 10,
   "metadata": {},
   "outputs": [
    {
     "name": "stdout",
     "output_type": "stream",
     "text": [
      "No. of timesteps simulated: 486\n"
     ]
    }
   ],
   "source": [
    "sim_S = simulate_gbm_exact_jit(10, history_data[-1], v[0], sigma[0], dt, T[0])\n",
    "print(f\"No. of timesteps simulated: {len(sim_S[0])}\")"
   ]
  },
  {
   "cell_type": "code",
   "execution_count": 11,
   "metadata": {},
   "outputs": [
    {
     "data": {
      "image/png": "[encoded data removed]",
      "text/plain": [
       "<Figure size 640x480 with 1 Axes>"
      ]
     },
     "metadata": {},
     "output_type": "display_data"
    }
   ],
   "source": [
    "plot1 = pd.Series(history_data, index=np.arange(len(history_data)))\n",
    "plt.plot(plot1)\n",
    "for i in range(len(sim_S)):\n",
    "    plot2 = pd.Series(sim_S[i], index=np.arange(len(history_data)-1, len(history_data)-1+len(sim_S[0])))\n",
    "    plt.plot(plot2)\n",
    "plt.show()"
   ]
  },
  {
   "cell_type": "markdown",
   "metadata": {},
   "source": [
    "# Risk-Neutral Valuation"
   ]
  },
  {
   "cell_type": "markdown",
   "metadata": {},
   "source": [
    "To calculate T between our initial window date (9 Aug 2023) and the final fixing date (14 July 2025), we use the [timeanddate website](https://www.timeanddate.com/date/workdays.html) and set the country to Germany (a country in the European Union). The number of working days in this range, excluding the end date is 485."
   ]
  },
  {
   "cell_type": "markdown",
   "metadata": {},
   "source": [
    "### Normal Monte Carlo Simulation"
   ]
  },
  {
   "cell_type": "code",
   "execution_count": 12,
   "metadata": {},
   "outputs": [],
   "source": [
    "predicted_derivative_dict = dict()\n",
    "predicted_derivative_dict['date'] = actual_dates"
   ]
  },
  {
   "cell_type": "code",
   "execution_count": 13,
   "metadata": {},
   "outputs": [],
   "source": [
    "def run_mc(Nsim, St, v, sigma, dt, T, i):\n",
    "    sim_S_jit = simulate_gbm_exact_jit(Nsim, St[i], v[i], sigma[i], dt, T[i])\n",
    "    sim_S_df = pd.DataFrame(sim_S_jit)\n",
    "    \n",
    "    sim_Note = np.exp(-r[i]*T[i])*sim_S_df.apply(PayoffFunctions.payoff_original, axis=1)\n",
    "    barrier_hits = np.count_nonzero(sim_S_df.apply(PayoffFunctions.check_barrier_hit, axis=1))\n",
    "    note_MC = np.mean(sim_Note)\n",
    "    note_MC_var = np.var(sim_Note)/Nsim\n",
    "    \n",
    "    return note_MC, note_MC_var, barrier_hits"
   ]
  },
  {
   "cell_type": "code",
   "execution_count": 14,
   "metadata": {},
   "outputs": [
    {
     "name": "stderr",
     "output_type": "stream",
     "text": [
      "100%|███████████████████████████████████████████| 66/66 [19:02<00:00, 17.31s/it]"
     ]
    },
    {
     "name": "stdout",
     "output_type": "stream",
     "text": [
      "Time taken (MC): 1142.1442872970001s\n",
      "\n",
      "Note Value (MC) on 2023-08-09: 1410.6882171913633\n",
      "Estimate Variance: 0.17248614260989087\n",
      "95% Confidence Interval: [1409.8742007508351, 1411.5022336318914]\n"
     ]
    },
    {
     "name": "stderr",
     "output_type": "stream",
     "text": [
      "\n"
     ]
    }
   ],
   "source": [
    "# Referencing https://gist.github.com/ltalirz/9220946c5c9fd920a1a2d81ce7375c47\n",
    "mc_means = np.zeros(len(actual_dates))\n",
    "mc_vars = np.zeros(len(actual_dates))\n",
    "mc_barrier_hits = np.zeros(len(actual_dates))\n",
    "\n",
    "mc_jit_start = time.perf_counter()\n",
    "# for i in tqdm(range(len(actual_dates))):\n",
    "#     sim_S_jit = simulate_gbm_exact_jit(Nsim, St[i], v[i], sigma[i], dt, T[i])\n",
    "#     sim_S_df = pd.DataFrame(sim_S_jit)\n",
    "    \n",
    "#     sim_Note = np.exp(-r[i]*T[i])*sim_S_df.apply(PayoffFunctions.payoff_original, axis=1)\n",
    "#     note_MC = np.mean(sim_Note)\n",
    "#     note_MC_var = np.var(sim_Note)/Nsim\n",
    "    \n",
    "#     mc_means[i] = note_MC\n",
    "#     mc_vars[i] = note_MC_var\n",
    "with tqdm(total=len(actual_dates)) as progress_bar:\n",
    "    with concurrent.futures.ProcessPoolExecutor(cpu_count) as executor:\n",
    "        futures = {executor.submit(run_mc, Nsim, St, v, sigma, dt, T, i): i for i in range(len(actual_dates))}\n",
    "        for future in concurrent.futures.as_completed(futures):\n",
    "            i = futures[future]\n",
    "            mc_means[i], mc_vars[i], mc_barrier_hits[i] = future.result()\n",
    "            progress_bar.update(1)\n",
    "mc_jit_end = time.perf_counter()\n",
    "print(f\"Time taken (MC): {mc_jit_end - mc_jit_start}s\\n\")\n",
    "\n",
    "lower_percentile = mc_means[0]-1.96*np.sqrt(mc_vars[0])\n",
    "higher_percentile = mc_means[0]+1.96*np.sqrt(mc_vars[0])\n",
    "print(f\"Note Value (MC) on {actual_dates[0]}: {mc_means[0]}\")\n",
    "print(f\"Estimate Variance: {mc_vars[0]}\")\n",
    "print(f\"95% Confidence Interval: [{lower_percentile}, {higher_percentile}]\")\n",
    "predicted_derivative_dict['MC_Mean'] = mc_means\n",
    "predicted_derivative_dict['MC_Var'] = mc_vars\n",
    "predicted_derivative_dict['MC_BarrierHits'] = mc_barrier_hits"
   ]
  },
  {
   "cell_type": "markdown",
   "metadata": {},
   "source": [
    "### Antithetic Variate Simulation"
   ]
  },
  {
   "cell_type": "code",
   "execution_count": 15,
   "metadata": {},
   "outputs": [],
   "source": [
    "def simulate_gbm_exact_av(n_sim, S_0, v, sigma, delta_t, T, collate=False):\n",
    "    '''\n",
    "    GBM simulation using Monte Carlo with antithetic variates\n",
    "\n",
    "    Takes in the following parameters:\n",
    "    - n_sim (integer): No. of simulations to generate\n",
    "    - S_0 (float): Price of S at time 0\n",
    "    - v (float): Given by (r - sigma^2 / 2), where r is the risk-free interest rate \n",
    "                 and sigma is the volatility calculated from historical data\n",
    "    - sigma (float): Volatility calculated from historical data (sqrt of variance)\n",
    "    - delta_t (float): Value of one timestep (e.g. 1 / 252, 1 day out of 252 working days in a year)\n",
    "    - T (float): End date, used to calculate no. of periods\n",
    "    - collate - Boolean: True - Returns [S_t[0], S_tilde_t[0], ..., S_t[n_sim-1], S_tilde_t[n_sim-1]],\n",
    "                         False - Returns [S_t[0], ..., S_t[n_sim-1], S_tilde_t[0], ..., S_tilde_t[n_sim-1]],\n",
    "    '''\n",
    "    n_periods = int(T / delta_t)\n",
    "    S_t = np.full((n_sim, n_periods+1), S_0)\n",
    "    S_tilde_t = np.full((n_sim, n_periods+1), S_0)\n",
    "    Z = np.random.normal(size=(n_sim, n_periods))\n",
    "    \n",
    "    for i in tqdm(range(n_sim)):\n",
    "    # for i in range(n_sim):\n",
    "        for j in range(1, n_periods+1):\n",
    "            S_t[i][j] = S_t[i][j-1] * np.exp(v*delta_t + sigma * np.sqrt(delta_t) * Z[i][j-1])\n",
    "            S_tilde_t[i][j] = S_tilde_t[i][j-1] * np.exp(v*delta_t + sigma * np.sqrt(delta_t) * (-Z[i][j-1]))\n",
    "            # S_t[i][j] = S_t[i][j-1] * np.exp(v*delta_t - 0.5*(sigma**2)*delta_t + sigma * np.sqrt(delta_t) * Z[i][j-1])\n",
    "            # S_tilde_t[i][j] = S_tilde_t[i][j-1] * np.exp(v*delta_t - 0.5*(sigma**2)*delta_t + sigma * np.sqrt(delta_t) * (-Z[i][j-1]))\n",
    "\n",
    "    if collate:\n",
    "        collated = [None] * (2*n_sim)\n",
    "        for i in range(n_sim):\n",
    "            collated[2*i] = S_t[i]\n",
    "            collated[2*i+1] = S_tilde_t[i]\n",
    "        return collated\n",
    "    S_t = np.append(S_t, S_tilde_t, 0)\n",
    "    return S_t\n",
    "\n",
    "@njit\n",
    "def simulate_gbm_exact_av_jit(n_sim, S_0, v, sigma, delta_t, T):\n",
    "    '''\n",
    "    GBM simulation using Monte Carlo with antithetic variates\n",
    "\n",
    "    Takes in the following parameters:\n",
    "    - n_sim (integer): No. of simulations to generate\n",
    "    - S_0 (float): Price of S at time 0\n",
    "    - v (float): Given by (r - sigma^2 / 2), where r is the risk-free interest rate \n",
    "                 and sigma is the volatility calculated from historical data\n",
    "    - sigma (float): Volatility calculated from historical data (sqrt of variance)\n",
    "    - delta_t (float): Value of one timestep (e.g. 1 / 252, 1 day out of 252 working days in a year)\n",
    "    - T (float): End date, used to calculate no. of periods\n",
    "    - collate - Boolean: True - Returns [S_t[0], S_tilde_t[0], ..., S_t[n_sim-1], S_tilde_t[n_sim-1]],\n",
    "                         False - Returns [S_t[0], ..., S_t[n_sim-1], S_tilde_t[0], ..., S_tilde_t[n_sim-1]],\n",
    "    '''\n",
    "    n_periods = int(T / delta_t)\n",
    "    S_t = np.full((n_sim*2, n_periods+1), S_0) # Combined S_tilde_t with S_t\n",
    "    \n",
    "    for i in range(n_sim):\n",
    "        for j in range(1, n_periods+1):\n",
    "            Z = np.random.normal()\n",
    "            S_t[i][j] = S_t[i][j-1] * np.exp(v*delta_t + sigma * np.sqrt(delta_t) * Z)\n",
    "            # S_tilde is stored in the second half of the array\n",
    "            S_t[n_sim+i][j] = S_t[n_sim+i][j-1] * np.exp(v*delta_t + sigma * np.sqrt(delta_t) * (-Z))\n",
    "\n",
    "    return S_t"
   ]
  },
  {
   "cell_type": "code",
   "execution_count": 16,
   "metadata": {},
   "outputs": [],
   "source": [
    "def run_av(Nsim, St, v, sigma, dt, T, i):\n",
    "    sim_S_AV_jit = simulate_gbm_exact_av_jit(int(Nsim/2), St[i], v[i], sigma[i], dt, T[i])    \n",
    "    sim_S_AV_df = pd.DataFrame(sim_S_AV_jit)\n",
    "    \n",
    "    sim_Note_AV = np.exp(-r[i]*T[i])*sim_S_AV_df.apply(PayoffFunctions.payoff_original, axis=1)\n",
    "    barrier_hits = np.count_nonzero(sim_S_AV_df.apply(PayoffFunctions.check_barrier_hit, axis=1))\n",
    "    note_AV = np.mean(sim_Note_AV)\n",
    "    note_AV_var = np.var(sim_Note_AV)/Nsim\n",
    "    \n",
    "    return note_AV, note_AV_var, barrier_hits"
   ]
  },
  {
   "cell_type": "code",
   "execution_count": 17,
   "metadata": {},
   "outputs": [
    {
     "name": "stderr",
     "output_type": "stream",
     "text": [
      "100%|███████████████████████████████████████████| 66/66 [16:41<00:00, 15.17s/it]"
     ]
    },
    {
     "name": "stdout",
     "output_type": "stream",
     "text": [
      "Time taken (AV): 1001.4953614619999s\n",
      "\n",
      "Note Value (AV) on 2023-08-09: 1410.6493728344549\n",
      "Estimate Variance: 0.1721203742427482\n",
      "95% Confidence Interval: [1409.8362199400426, 1411.4625257288671]\n"
     ]
    },
    {
     "name": "stderr",
     "output_type": "stream",
     "text": [
      "\n"
     ]
    }
   ],
   "source": [
    "av_means = np.zeros(len(actual_dates))\n",
    "av_vars = np.zeros(len(actual_dates))\n",
    "av_barrier_hits = np.zeros(len(actual_dates))\n",
    "\n",
    "av_jit_start = time.perf_counter()\n",
    "# for i in tqdm(range(len(actual_dates))):\n",
    "#     sim_S_AV_jit = simulate_gbm_exact_av_jit(int(Nsim/2), St[i], v[i], sigma[i], dt, T[i])    \n",
    "#     sim_S_AV_df = pd.DataFrame(sim_S_AV_jit)\n",
    "    \n",
    "#     sim_Note_AV = np.exp(-r[i]*T[i])*sim_S_AV_df.apply(PayoffFunctions.payoff_original, axis=1)\n",
    "#     note_AV = np.mean(sim_Note_AV)\n",
    "#     note_AV_var = np.var(sim_Note_AV)/Nsim\n",
    "#     av_means.append(note_AV)\n",
    "#     av_vars.append(note_AV_var)\n",
    "\n",
    "with tqdm(total=len(actual_dates)) as progress_bar:\n",
    "    with concurrent.futures.ProcessPoolExecutor(cpu_count) as executor:\n",
    "        futures = {executor.submit(run_av, Nsim, St, v, sigma, dt, T, i): i for i in range(len(actual_dates))}\n",
    "        for future in concurrent.futures.as_completed(futures):\n",
    "            i = futures[future]\n",
    "            av_means[i], av_vars[i], av_barrier_hits[i] = future.result()\n",
    "            progress_bar.update(1)\n",
    "\n",
    "av_jit_end = time.perf_counter()\n",
    "print(f\"Time taken (AV): {av_jit_end - av_jit_start}s\\n\")\n",
    "\n",
    "lower_percentile = av_means[0]-1.96*np.sqrt(av_vars[0])\n",
    "higher_percentile = av_means[0]+1.96*np.sqrt(av_vars[0])\n",
    "print(f\"Note Value (AV) on {actual_dates[0]}: {av_means[0]}\")\n",
    "print(f\"Estimate Variance: {av_vars[0]}\")\n",
    "print(f\"95% Confidence Interval: [{lower_percentile}, {higher_percentile}]\")\n",
    "predicted_derivative_dict['AV_Mean'] = av_means\n",
    "predicted_derivative_dict['AV_Var'] = av_vars\n",
    "predicted_derivative_dict['AV_BarrierHits'] = av_barrier_hits"
   ]
  },
  {
   "cell_type": "markdown",
   "metadata": {},
   "source": [
    "### Control Variate Simulation"
   ]
  },
  {
   "cell_type": "code",
   "execution_count": 18,
   "metadata": {},
   "outputs": [],
   "source": [
    "def simulate_gbm_exact_cv(n_sim, S_0, v, sigma, delta_t, T, r, payoff_fn, n1=1000):\n",
    "    hsi_simulations_pre = simulate_gbm_exact(n1, S_0, v, sigma, delta_t, T)\n",
    "    payoffs_pre = np.array([payoff_fn(sim) for sim in hsi_simulations_pre])\n",
    "    sim_notes_pre = np.exp(-r * T) * payoffs_pre\n",
    "    c = -np.cov(sim_notes_pre, hsi_simulations_pre[:,-1])[0,1] / (S_0**2 * np.exp(2*r*T) * (np.exp(sigma**2*T)-1))\n",
    "    \n",
    "    hsi_simulations_cv = simulate_gbm_exact(n_sim, S_0, v, sigma, delta_t, T)\n",
    "    payoffs_cv = np.array([payoff_fn(sim) for sim in hsi_simulations_cv])\n",
    "    sim_notes_cv = np.exp(-r * T) * payoffs_cv + c*(hsi_simulations_cv[:,-1] - S_0*np.exp(r*T))\n",
    "    return sim_notes_cv\n",
    "\n",
    "@jit\n",
    "def simulate_gbm_exact_cv_jit(n_sim, S_0, v, sigma, delta_t, T, r, payoff_fn, n1=1000):\n",
    "    hsi_simulations_pre = simulate_gbm_exact_jit(n1, S_0, v, sigma, delta_t, T)\n",
    "    payoffs_pre = np.array([payoff_fn(sim) for sim in hsi_simulations_pre])\n",
    "    sim_notes_pre = np.exp(-r * T) * payoffs_pre\n",
    "    c = -np.cov(sim_notes_pre, hsi_simulations_pre[:,-1])[0,1] / (S_0**2 * np.exp(2*r*T) * (np.exp(sigma**2*T)-1))\n",
    "    \n",
    "    hsi_simulations_cv = simulate_gbm_exact_jit(n_sim, S_0, v, sigma, delta_t, T)\n",
    "    barrier_hits = np.count_nonzero(np.apply_along_axis(PayoffFunctions.check_barrier_hit, 1, hsi_simulations_cv))\n",
    "    payoffs_cv = np.array([payoff_fn(sim) for sim in hsi_simulations_cv])\n",
    "    sim_notes_cv = np.exp(-r * T) * payoffs_cv + c*(hsi_simulations_cv[:,-1] - S_0*np.exp(r*T))\n",
    "    return sim_notes_cv, barrier_hits"
   ]
  },
  {
   "cell_type": "code",
   "execution_count": 19,
   "metadata": {},
   "outputs": [],
   "source": [
    "def run_cv(Nsim, St, v, sigma, dt, T, i, n_control_simulations=1000):\n",
    "    sim_Note_CV_jit, barrier_hits = simulate_gbm_exact_cv_jit(Nsim, St[i], v[i], sigma[i], dt, T[i], r[i], payoff_fn=PayoffFunctions.payoff_original, n1=n_control_simulations)\n",
    "    note_CV = np.mean(sim_Note_CV_jit)\n",
    "    note_CV_var = np.var(sim_Note_CV_jit)/Nsim\n",
    "    return note_CV, note_CV_var, barrier_hits"
   ]
  },
  {
   "cell_type": "code",
   "execution_count": 20,
   "metadata": {},
   "outputs": [
    {
     "name": "stderr",
     "output_type": "stream",
     "text": [
      "100%|███████████████████████████████████████████| 66/66 [15:51<00:00, 14.42s/it]"
     ]
    },
    {
     "name": "stdout",
     "output_type": "stream",
     "text": [
      "Time taken (CV): 951.5016925139998s\n",
      "\n",
      "Note Value (CV) on 2023-08-09: 1410.788913007313\n",
      "Estimate Variance: 0.004008199916216172\n",
      "95% Confidence Interval: [1410.6648247290668, 1410.9130012855594]\n"
     ]
    },
    {
     "name": "stderr",
     "output_type": "stream",
     "text": [
      "\n"
     ]
    }
   ],
   "source": [
    "cv_means = np.zeros(len(actual_dates))\n",
    "cv_vars = np.zeros(len(actual_dates))\n",
    "cv_barrier_hits = np.zeros(len(actual_dates))\n",
    "\n",
    "cv_jit_start = time.perf_counter()\n",
    "# for i in tqdm(range(len(actual_dates))):\n",
    "#     sim_Note_CV_jit = simulate_gbm_exact_cv_jit(Nsim, St[i], v[i], sigma[i], dt, T[i], r[i], payoff_fn=PayoffFunctions.payoff_original)\n",
    "    \n",
    "#     note_CV = np.mean(sim_Note_CV_jit)\n",
    "#     note_CV_var = np.var(sim_Note_CV_jit)/Nsim\n",
    "#     cv_means.append(note_CV)\n",
    "#     cv_vars.append(note_CV_var)\n",
    "\n",
    "with tqdm(total=len(actual_dates)) as progress_bar:\n",
    "    with concurrent.futures.ProcessPoolExecutor(cpu_count) as executor:\n",
    "        futures = {executor.submit(run_cv, Nsim, St, v, sigma, dt, T, i, n_control_simulations): i for i in range(len(actual_dates))}\n",
    "        for future in concurrent.futures.as_completed(futures):\n",
    "            i = futures[future]\n",
    "            cv_means[i], cv_vars[i], cv_barrier_hits[i] = future.result()\n",
    "            progress_bar.update(1)\n",
    "    \n",
    "cv_jit_end = time.perf_counter()\n",
    "print(f\"Time taken (CV): {cv_jit_end - cv_jit_start}s\\n\")\n",
    "\n",
    "lower_percentile = cv_means[0]-1.96*np.sqrt(cv_vars[0])\n",
    "higher_percentile = cv_means[0]+1.96*np.sqrt(cv_vars[0])\n",
    "print(f\"Note Value (CV) on {actual_dates[0]}: {cv_means[0]}\")\n",
    "print(f\"Estimate Variance: {cv_vars[0]}\")\n",
    "print(f\"95% Confidence Interval: [{lower_percentile}, {higher_percentile}]\")\n",
    "predicted_derivative_dict['CV_Mean'] = cv_means\n",
    "predicted_derivative_dict['CV_Var'] = cv_vars\n",
    "predicted_derivative_dict['CV_BarrierHits'] = cv_barrier_hits"
   ]
  },
  {
   "cell_type": "markdown",
   "metadata": {},
   "source": [
    "### Stratified Sampling Simulation"
   ]
  },
  {
   "cell_type": "code",
   "execution_count": 21,
   "metadata": {},
   "outputs": [],
   "source": [
    "def simulate_gbm_1_shoot_ss(n_strata, n_sim_s, S_0, v, sigma, T):\n",
    "    '''\n",
    "    GBM simulation using Monte Carlo with stratified sampling\n",
    "\n",
    "    Takes in the following parameters:\n",
    "    - n_strata (integer): No. of strata\n",
    "    - n_sim_s (integer): No. of simulations to generate per strata (Total = n_strata * n_sim_s)\n",
    "    - S_0 (float): Price of S at time 0\n",
    "    - v (float): Given by (r - sigma^2 / 2), where r is the risk-free interest rate \n",
    "                 and sigma is the volatility calculated from historical data\n",
    "    - sigma (float): Volatility calculated from historical data (sqrt of variance)\n",
    "    - T (float): End date, used to calculate no. of periods\n",
    "    '''\n",
    "    V = np.random.uniform(size=n_sim_s) / n_strata\n",
    "    for i in range(1, n_strata):\n",
    "        V = np.append(V, (i + np.random.uniform(size=n_sim_s)) / n_strata, 0 )\n",
    "    Z = np.array(scipy.stats.norm.ppf(V))\n",
    "    S_T = S_0 * np.exp(v*T + sigma*np.sqrt(T)*Z)\n",
    "    # S_T = S_0 * np.exp(v*T - 0.5*(sigma**2)*T + sigma*np.sqrt(T)*Z)\n",
    "    return S_T.reshape(n_sim_s*n_strata, 1)\n",
    "\n",
    "@jit\n",
    "def simulate_gbm_1_shoot_ss_jit(n_strata, n_sim_s, S_0, v, sigma, T):\n",
    "    '''\n",
    "    GBM simulation using Monte Carlo with stratified sampling\n",
    "\n",
    "    Takes in the following parameters:\n",
    "    - n_strata (integer): No. of strata\n",
    "    - n_sim_s (integer): No. of simulations to generate per strata (Total = n_strata * n_sim_s)\n",
    "    - S_0 (float): Price of S at time 0\n",
    "    - v (float): Given by (r - sigma^2 / 2), where r is the risk-free interest rate \n",
    "                 and sigma is the volatility calculated from historical data\n",
    "    - sigma (float): Volatility calculated from historical data (sqrt of variance)\n",
    "    - T (float): End date, used to calculate no. of periods\n",
    "    '''\n",
    "    V = np.empty(n_strata*n_sim_s, dtype=np.float64)\n",
    "    for i in range(n_strata):\n",
    "        V[i*n_sim_s:(i+1)*n_sim_s] = (i + np.random.uniform(size=n_sim_s)) / n_strata\n",
    "        # V = np.append(V, (i + np.random.uniform(size=n_sim_s)) / n_strata, 0 )\n",
    "    Z = np.array(scipy.stats.norm.ppf(V))\n",
    "    S_T = S_0 * np.exp(v*T + sigma*np.sqrt(T)*Z)\n",
    "    # S_T = S_0 * np.exp(v*T - 0.5*(sigma**2)*T + sigma*np.sqrt(T)*Z)\n",
    "    return S_T.reshape(n_sim_s*n_strata, 1)"
   ]
  },
  {
   "cell_type": "code",
   "execution_count": 22,
   "metadata": {},
   "outputs": [],
   "source": [
    "def run_ss(n_strata, n_sim_s, St, v, sigma, T, i):\n",
    "    sim_S_SS_jit = simulate_gbm_1_shoot_ss_jit(n_strata, n_sim_s, St[i], v[i], sigma[i], T[i])\n",
    "    sim_S_SS_df = pd.DataFrame(sim_S_SS_jit)\n",
    "    \n",
    "    sim_Note_SS = np.exp(-r[i]*T[i])*sim_S_SS_df.apply(PayoffFunctions.payoff_original, axis=1)\n",
    "    note_SS = np.mean(sim_Note_SS)\n",
    "    note_SS_var = np.var(sim_Note_SS)/Nsim\n",
    "    return note_SS, note_SS_var"
   ]
  },
  {
   "cell_type": "code",
   "execution_count": 23,
   "metadata": {},
   "outputs": [],
   "source": [
    "# # Commented out as SS does not apply for path-dependent options\n",
    "# ss_means = np.zeros(len(actual_dates))\n",
    "# ss_vars = np.zeros(len(actual_dates))\n",
    "\n",
    "# n_strata = 5\n",
    "# n_sim_s = Nsim // n_strata\n",
    "\n",
    "# ss_jit_start = time.perf_counter()\n",
    "\n",
    "# with tqdm(total=len(actual_dates)) as progress_bar:\n",
    "#     with concurrent.futures.ProcessPoolExecutor(cpu_count) as executor:\n",
    "#         futures = {executor.submit(run_ss, n_strata, n_sim_s, St, v, sigma, T, i): i for i in range(len(actual_dates))}\n",
    "#         for future in concurrent.futures.as_completed(futures):\n",
    "#             i = futures[future]\n",
    "#             ss_means[i], ss_vars[i] = future.result()\n",
    "#             progress_bar.update(1)\n",
    "    \n",
    "# ss_jit_end = time.perf_counter()\n",
    "# print(f\"Time taken (SS): {ss_jit_end - ss_jit_start}s\\n\")\n",
    "\n",
    "# lower_percentile = ss_means[0]-1.96*np.sqrt(ss_vars[0])\n",
    "# higher_percentile = ss_means[0]+1.96*np.sqrt(ss_vars[0])\n",
    "# print(f\"Note Value (SS) on {actual_dates[0]}: {ss_means[0]}\")\n",
    "# print(f\"Estimate Variance: {ss_vars[0]}\")\n",
    "# print(f\"95% Confidence Interval: [{lower_percentile}, {higher_percentile}]\")\n",
    "# predicted_derivative_dict['SS_Mean'] = ss_means\n",
    "# predicted_derivative_dict['SS_Var'] = ss_vars"
   ]
  },
  {
   "cell_type": "markdown",
   "metadata": {},
   "source": [
    "### Empirical Martingale Simulation"
   ]
  },
  {
   "cell_type": "code",
   "execution_count": 24,
   "metadata": {},
   "outputs": [],
   "source": [
    "@njit\n",
    "def simulate_gbm_ems(sim_paths, delta_t, r):\n",
    "    '''\n",
    "    GBM simulation using Empirical Martingale Simulation\n",
    "\n",
    "    Takes in the following parameters:\n",
    "    - sim_paths (np.array): List of paths generated from `simulate_gbm_exact`, shape: (n_sim, n_periods+1)\n",
    "    - delta_t (float): Value of one timestep (e.g. 1/252, 1 day out of 252 working days in a year)\n",
    "    - r (float): Risk-free interest rate\n",
    "    '''\n",
    "    n_sim = sim_paths.shape[0]\n",
    "    n_periods = sim_paths.shape[1] - 1\n",
    "    S = np.zeros((n_sim, n_periods+1))\n",
    "    Z = np.zeros((n_sim+1, n_periods))\n",
    "    S[:, 0] = sim_paths[:, 0]\n",
    "\n",
    "    for j in range(1, n_periods+1):\n",
    "        Z[:n_sim, j-1] = S[:,j-1]*sim_paths[:, j] / sim_paths[:, j-1]\n",
    "        Z[n_sim,j-1] = np.exp(-r*((j-1)*delta_t)) * np.mean(Z[:n_sim,j-1])\n",
    "        S[:,j] = sim_paths[:, 0] * Z[:n_sim, j-1] / Z[n_sim, j-1]\n",
    "    return S"
   ]
  },
  {
   "cell_type": "code",
   "execution_count": 25,
   "metadata": {},
   "outputs": [],
   "source": [
    "def run_ems(Nsim, St, v, sigma, dt, T, r, i):\n",
    "    sim_S = simulate_gbm_exact_jit(Nsim, St[i], v[i], sigma[i], dt, T[i])\n",
    "    sim_S_EMS = simulate_gbm_ems(sim_S, dt, r[i])\n",
    "    sim_S_EMS_df = pd.DataFrame(sim_S_EMS)\n",
    "    \n",
    "    sim_Note_EMS = np.exp(-r[i]*T[i])*sim_S_EMS_df.apply(PayoffFunctions.payoff_original, axis=1)\n",
    "    barrier_hits = np.count_nonzero(sim_S_EMS_df.apply(PayoffFunctions.check_barrier_hit, axis=1))\n",
    "    note_EMS = np.mean(sim_Note_EMS)\n",
    "    note_EMS_var = np.var(sim_Note_EMS)/Nsim\n",
    "    return note_EMS, note_EMS_var, barrier_hits"
   ]
  },
  {
   "cell_type": "code",
   "execution_count": 26,
   "metadata": {},
   "outputs": [
    {
     "name": "stderr",
     "output_type": "stream",
     "text": [
      "100%|███████████████████████████████████████████| 66/66 [52:29<00:00, 47.72s/it]"
     ]
    },
    {
     "name": "stdout",
     "output_type": "stream",
     "text": [
      "Time taken (EMS): 3149.6490633420008s\n",
      "\n",
      "Note Value (EMS) on 2023-08-09: 1410.551954700583\n",
      "Estimate Variance: 0.17269534656074526\n",
      "95% Confidence Interval: [1409.737444759976, 1411.3664646411903]\n"
     ]
    },
    {
     "name": "stderr",
     "output_type": "stream",
     "text": [
      "\n"
     ]
    }
   ],
   "source": [
    "ems_means = np.zeros(len(actual_dates))\n",
    "ems_vars = np.zeros(len(actual_dates))\n",
    "ems_barrier_hits = np.zeros(len(actual_dates))\n",
    "\n",
    "ems_jit_start = time.perf_counter()\n",
    "\n",
    "# for i in tqdm(range(len(actual_dates))):\n",
    "#     sim_S = simulate_gbm_exact_jit(Nsim, St[i], v[i], sigma[i], dt, T[i])\n",
    "#     sim_S_EMS = simulate_gbm_ems(sim_S, dt, r[i])\n",
    "#     sim_S_EMS_df = pd.DataFrame(sim_S_EMS)\n",
    "    \n",
    "#     sim_Note_EMS = np.exp(-r[i]*T[i])*sim_S_EMS_df.apply(PayoffFunctions.payoff_original, axis=1)\n",
    "#     note_EMS = np.mean(sim_Note_EMS)\n",
    "#     note_EMS_var = np.var(sim_Note_EMS)/Nsim\n",
    "    \n",
    "#     ems_means.append(note_EMS)\n",
    "#     ems_vars.append(note_EMS_var)\n",
    "with tqdm(total=len(actual_dates)) as progress_bar:\n",
    "    with concurrent.futures.ProcessPoolExecutor(ems_cpu_count) as executor:\n",
    "        futures = {executor.submit(run_ems, Nsim, St, v, sigma, dt, T, r, i): i for i in range(len(actual_dates))}\n",
    "        for future in concurrent.futures.as_completed(futures):\n",
    "            i = futures[future]\n",
    "            ems_means[i], ems_vars[i], ems_barrier_hits[i] = future.result()\n",
    "            progress_bar.update(1)\n",
    "\n",
    "ems_jit_end = time.perf_counter()\n",
    "print(f\"Time taken (EMS): {ems_jit_end - ems_jit_start}s\\n\")\n",
    "\n",
    "lower_percentile = ems_means[0]-1.96*np.sqrt(ems_vars[0])\n",
    "higher_percentile = ems_means[0]+1.96*np.sqrt(ems_vars[0])\n",
    "print(f\"Note Value (EMS) on {actual_dates[0]}: {ems_means[0]}\")\n",
    "print(f\"Estimate Variance: {ems_vars[0]}\")\n",
    "print(f\"95% Confidence Interval: [{lower_percentile}, {higher_percentile}]\")\n",
    "predicted_derivative_dict['EMS_Mean'] = ems_means\n",
    "predicted_derivative_dict['EMS_Var'] = ems_vars\n",
    "predicted_derivative_dict['EMS_BarrierHits'] = ems_barrier_hits"
   ]
  },
  {
   "cell_type": "markdown",
   "metadata": {},
   "source": [
    "## Comparison - Predicted vs Actual Derivative price"
   ]
  },
  {
   "cell_type": "markdown",
   "metadata": {},
   "source": [
    "We import the actual derivative price data, scraped from the Credit Suisse page for comparison against our predicted derivative price:"
   ]
  },
  {
   "cell_type": "code",
   "execution_count": 27,
   "metadata": {},
   "outputs": [
    {
     "data": {
      "text/html": [
       "<div>\n",
       "<style scoped>\n",
       "    .dataframe tbody tr th:only-of-type {\n",
       "        vertical-align: middle;\n",
       "    }\n",
       "\n",
       "    .dataframe tbody tr th {\n",
       "        vertical-align: top;\n",
       "    }\n",
       "\n",
       "    .dataframe thead th {\n",
       "        text-align: right;\n",
       "    }\n",
       "</style>\n",
       "<table border=\"1\" class=\"dataframe\">\n",
       "  <thead>\n",
       "    <tr style=\"text-align: right;\">\n",
       "      <th></th>\n",
       "      <th>date</th>\n",
       "      <th>value</th>\n",
       "    </tr>\n",
       "  </thead>\n",
       "  <tbody>\n",
       "    <tr>\n",
       "      <th>0</th>\n",
       "      <td>2022-07-15</td>\n",
       "      <td>1004.94</td>\n",
       "    </tr>\n",
       "    <tr>\n",
       "      <th>1</th>\n",
       "      <td>2022-07-18</td>\n",
       "      <td>1014.34</td>\n",
       "    </tr>\n",
       "    <tr>\n",
       "      <th>2</th>\n",
       "      <td>2022-07-19</td>\n",
       "      <td>1038.38</td>\n",
       "    </tr>\n",
       "    <tr>\n",
       "      <th>3</th>\n",
       "      <td>2022-07-20</td>\n",
       "      <td>1035.84</td>\n",
       "    </tr>\n",
       "    <tr>\n",
       "      <th>4</th>\n",
       "      <td>2022-07-21</td>\n",
       "      <td>1038.86</td>\n",
       "    </tr>\n",
       "    <tr>\n",
       "      <th>...</th>\n",
       "      <td>...</td>\n",
       "      <td>...</td>\n",
       "    </tr>\n",
       "    <tr>\n",
       "      <th>330</th>\n",
       "      <td>2023-11-06</td>\n",
       "      <td>1225.93</td>\n",
       "    </tr>\n",
       "    <tr>\n",
       "      <th>331</th>\n",
       "      <td>2023-11-07</td>\n",
       "      <td>1224.44</td>\n",
       "    </tr>\n",
       "    <tr>\n",
       "      <th>332</th>\n",
       "      <td>2023-11-08</td>\n",
       "      <td>1232.53</td>\n",
       "    </tr>\n",
       "    <tr>\n",
       "      <th>333</th>\n",
       "      <td>2023-11-09</td>\n",
       "      <td>1251.19</td>\n",
       "    </tr>\n",
       "    <tr>\n",
       "      <th>334</th>\n",
       "      <td>2023-11-10</td>\n",
       "      <td>1239.05</td>\n",
       "    </tr>\n",
       "  </tbody>\n",
       "</table>\n",
       "<p>335 rows × 2 columns</p>\n",
       "</div>"
      ],
      "text/plain": [
       "           date    value\n",
       "0    2022-07-15  1004.94\n",
       "1    2022-07-18  1014.34\n",
       "2    2022-07-19  1038.38\n",
       "3    2022-07-20  1035.84\n",
       "4    2022-07-21  1038.86\n",
       "..          ...      ...\n",
       "330  2023-11-06  1225.93\n",
       "331  2023-11-07  1224.44\n",
       "332  2023-11-08  1232.53\n",
       "333  2023-11-09  1251.19\n",
       "334  2023-11-10  1239.05\n",
       "\n",
       "[335 rows x 2 columns]"
      ]
     },
     "execution_count": 27,
     "metadata": {},
     "output_type": "execute_result"
    }
   ],
   "source": [
    "actual_derivative_df = pd.read_csv('Outperformance_Bonus_Certificate_EURO_STOXX_50.csv')\n",
    "actual_derivative_df"
   ]
  },
  {
   "cell_type": "code",
   "execution_count": 28,
   "metadata": {},
   "outputs": [
    {
     "data": {
      "image/png": "[encoded data removed]",
      "text/plain": [
       "<Figure size 640x480 with 1 Axes>"
      ]
     },
     "metadata": {},
     "output_type": "display_data"
    }
   ],
   "source": [
    "import matplotlib.dates as mdates\n",
    "\n",
    "actual_derivative_range_df = actual_derivative_df[actual_derivative_df['date'].isin(actual_dates)]\n",
    "predicted_derivative_df = pd.DataFrame(predicted_derivative_dict)\n",
    "\n",
    "plt.plot(actual_derivative_range_df['date'], actual_derivative_range_df['value'], label='Actual Derivative Price')\n",
    "plt.plot(predicted_derivative_df['date'], predicted_derivative_df['MC_Mean'], label='Monte Carlo')\n",
    "plt.plot(predicted_derivative_df['date'], predicted_derivative_df['AV_Mean'], label='Antithetic Variate')\n",
    "plt.plot(predicted_derivative_df['date'], predicted_derivative_df['CV_Mean'], label='Control Variate')\n",
    "# plt.plot(predicted_derivative_df['date'], predicted_derivative_df['SS_Mean'], label='1-shoot Stratified Sampling')\n",
    "plt.plot(predicted_derivative_df['date'], predicted_derivative_df['EMS_Mean'], label='Empirical Martingale Correction')\n",
    "plt.legend()\n",
    "plt.title(\"Actual vs Predicted Derivative Prices\")\n",
    "plt.xlabel(\"Date\")\n",
    "plt.xticks(rotation=90)\n",
    "plt.ylabel(\"Derivative Price ($)\")\n",
    "plt.gca().xaxis.set_major_locator(mdates.DayLocator(interval=2))\n",
    "# plt.gca().xaxis.set_major_formatter(date_formatter)\n",
    "plt.show()"
   ]
  },
  {
   "cell_type": "code",
   "execution_count": 29,
   "metadata": {},
   "outputs": [
    {
     "name": "stdout",
     "output_type": "stream",
     "text": [
      "Mean Absolute Error from Actual Price for 1000000 simulations (Lookback 252 days):\n",
      "- Monte Carlo: 111.41391776611427 EUR\n",
      "- Antithetic Variates: 111.42281436266472 EUR\n",
      "- Control Variates: 111.40735942037249 EUR\n",
      "- Empirical Martingale Correction: 111.19318685721085 EUR\n"
     ]
    }
   ],
   "source": [
    "# Calculate difference for each method used\n",
    "print(f\"Mean Absolute Error from Actual Price for {Nsim} simulations (Lookback {M} days):\")\n",
    "print(f\"- Monte Carlo: {(np.abs(predicted_derivative_df['MC_Mean'].values - actual_derivative_range_df['value'].values)).mean()} EUR\")\n",
    "print(f\"- Antithetic Variates: {(np.abs(predicted_derivative_df['AV_Mean'].values - actual_derivative_range_df['value'].values)).mean()} EUR\")\n",
    "print(f\"- Control Variates: {(np.abs(predicted_derivative_df['CV_Mean'].values - actual_derivative_range_df['value'].values)).mean()} EUR\")\n",
    "# print(f\"- 1-shoot Stratified Sampling: {(predicted_derivative_df['SS_Mean'].values - actual_derivative_range_df['value'].values).mean()} EUR\")\n",
    "print(f\"- Empirical Martingale Correction: {(np.abs(predicted_derivative_df['EMS_Mean'].values - actual_derivative_range_df['value'].values)).mean()} EUR\")"
   ]
  },
  {
   "cell_type": "code",
   "execution_count": 30,
   "metadata": {},
   "outputs": [
    {
     "name": "stdout",
     "output_type": "stream",
     "text": [
      "Mean Estimated Variance for 1000000 simulations (Lookback 252 days):\n",
      "- Monte Carlo: 0.13552132520876198\n",
      "- Antithetic Variates: 0.1355381303591629\n",
      "- Control Variates: 0.0038730636779872427\n",
      "- Empirical Martingale Correction: 0.1354802118717821\n"
     ]
    }
   ],
   "source": [
    "# Calculate mean variance for each method used\n",
    "print(f\"Mean Estimated Variance for {Nsim} simulations (Lookback {M} days):\")\n",
    "print(f\"- Monte Carlo: {predicted_derivative_df['MC_Var'].mean()}\")\n",
    "print(f\"- Antithetic Variates: {predicted_derivative_df['AV_Var'].mean()}\")\n",
    "print(f\"- Control Variates: {predicted_derivative_df['CV_Var'].mean()}\")\n",
    "# print(f\"- 1-shoot Stratified Sampling: 111.72749210564456 EUR\")\n",
    "print(f\"- Empirical Martingale Correction: {predicted_derivative_df['EMS_Var'].mean()}\")"
   ]
  },
  {
   "cell_type": "code",
   "execution_count": 31,
   "metadata": {},
   "outputs": [
    {
     "name": "stdout",
     "output_type": "stream",
     "text": [
      "Variance Reduction % for 1000000 simulations (Lookback 252 days):\n",
      "- Antithetic Variates: -0.01%\n",
      "- Control Variates: 97.14%\n",
      "- Empirical Martingale Correction: 0.03%\n"
     ]
    }
   ],
   "source": [
    "# Calculate mean variance for each method used\n",
    "print(f\"Variance Reduction % for {Nsim} simulations (Lookback {M} days):\")\n",
    "print(f\"- Antithetic Variates: {100*(predicted_derivative_df['MC_Var'].mean()-predicted_derivative_df['AV_Var'].mean())/predicted_derivative_df['MC_Var'].mean():.2f}%\")\n",
    "print(f\"- Control Variates: {100*(predicted_derivative_df['MC_Var'].mean()-predicted_derivative_df['CV_Var'].mean())/predicted_derivative_df['MC_Var'].mean():.2f}%\")\n",
    "# print(f\"- 1-shoot Stratified Sampling: 111.72749210564456 EUR\")\n",
    "print(f\"- Empirical Martingale Correction: {100*(predicted_derivative_df['MC_Var'].mean()-predicted_derivative_df['EMS_Var'].mean())/predicted_derivative_df['MC_Var'].mean():.2f}%\")"
   ]
  },
  {
   "cell_type": "markdown",
   "metadata": {},
   "source": [
    "This shows that our GBM model overestimates the actual derivative price by more than EUR100, which indicates that our model differs greatly from the model that Credit Suisse uses to price their own option."
   ]
  },
  {
   "cell_type": "code",
   "execution_count": 32,
   "metadata": {},
   "outputs": [
    {
     "name": "stdout",
     "output_type": "stream",
     "text": [
      "Average Barrier Hit percentage for each simulation technique\n",
      "- Monte Carlo: 29.575758 hits / 1000000 simulations = 0.000030%\n",
      "- Antithetic Variates: 29.924242 hits / 1000000 simulations = 0.000030%\n",
      "- Control Variates: 29.136364 hits / 1000000 simulations = 0.000029%\n",
      "- Empirical Martingale Correction: 29.378788 hits / 1000000 simulations = 0.000029%\n"
     ]
    }
   ],
   "source": [
    "print(\"Average Barrier Hit percentage for each simulation technique\")\n",
    "print(f\"- Monte Carlo: {predicted_derivative_df['MC_BarrierHits'].mean():.6f} hits / {Nsim} simulations = {predicted_derivative_df['MC_BarrierHits'].mean()/Nsim:.6f}%\")\n",
    "print(f\"- Antithetic Variates: {predicted_derivative_df['AV_BarrierHits'].mean():.6f} hits / {Nsim} simulations = {predicted_derivative_df['AV_BarrierHits'].mean()/Nsim:.6f}%\")\n",
    "print(f\"- Control Variates: {predicted_derivative_df['CV_BarrierHits'].mean():.6f} hits / {Nsim} simulations = {predicted_derivative_df['CV_BarrierHits'].mean()/Nsim:.6f}%\")\n",
    "print(f\"- Empirical Martingale Correction: {predicted_derivative_df['EMS_BarrierHits'].mean():.6f} hits / {Nsim} simulations = {predicted_derivative_df['EMS_BarrierHits'].mean()/Nsim:.6f}%\")"
   ]
  },
  {
   "cell_type": "code",
   "execution_count": null,
   "metadata": {},
   "outputs": [],
   "source": []
  }
 ],
 "metadata": {
  "kernelspec": {
   "display_name": "Python 3 (ipykernel)",
   "language": "python",
   "name": "python3"
  },
  "language_info": {
   "codemirror_mode": {
    "name": "ipython",
    "version": 3
   },
   "file_extension": ".py",
   "mimetype": "text/x-python",
   "name": "python",
   "nbconvert_exporter": "python",
   "pygments_lexer": "ipython3",
   "version": "3.11.4"
  }
 },
 "nbformat": 4,
 "nbformat_minor": 4
}
