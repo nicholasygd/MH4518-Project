{
 "cells": [
  {
   "cell_type": "code",
   "execution_count": 60,
   "metadata": {},
   "outputs": [],
   "source": [
    "import pandas as pd\n",
    "import numpy as np\n",
    "import matplotlib.pyplot as plt\n",
    "from tqdm import tqdm\n",
    "import scipy\n",
    "from lmfit import Parameters, minimize\n",
    "from numba import jit, njit, prange, float64,complex64\n",
    "from payoff_function import PayoffFunctions as payoff"
   ]
  },
  {
   "cell_type": "code",
   "execution_count": 2,
   "metadata": {},
   "outputs": [],
   "source": [
    "# complex number used in function\n",
    "i = complex(0, 1)"
   ]
  },
  {
   "cell_type": "markdown",
   "metadata": {},
   "source": [
    "##### 1. Defining f which would be used in Heston Pricer"
   ]
  },
  {
   "cell_type": "code",
   "execution_count": 3,
   "metadata": {},
   "outputs": [
    {
     "name": "stderr",
     "output_type": "stream",
     "text": [
      "C:\\Windows\\Temp\\ipykernel_5880\\3593397540.py:3: NumbaDeprecationWarning: \u001b[1mThe 'nopython' keyword argument was not supplied to the 'numba.jit' decorator. The implicit default value for this argument is currently False, but it will be changed to True in Numba 0.59.0. See https://numba.readthedocs.io/en/stable/reference/deprecation.html#deprecation-of-object-mode-fall-back-behaviour-when-using-jit for details.\u001b[0m\n",
      "  def fHeston(s, St, K, r, T, sigma, kappa, theta, volvol, rho):\n"
     ]
    }
   ],
   "source": [
    "# To be used in the Heston pricer\n",
    "@jit\n",
    "def fHeston(s, St, K, r, T, sigma, kappa, theta, volvol, rho):\n",
    "    # To be used a lot\n",
    "    prod = rho * sigma *i *s \n",
    "    \n",
    "    # Calculate d\n",
    "    d1 = (prod - kappa)**2\n",
    "    d2 = (sigma**2) * (i*s + s**2)\n",
    "    d = np.sqrt(d1 + d2)\n",
    "    \n",
    "    # Calculate g\n",
    "    g1 = kappa - prod - d\n",
    "    g2 = kappa - prod + d\n",
    "    g = g1/g2\n",
    "    \n",
    "    # Calculate first exponential\n",
    "    exp1 = np.exp(np.log(St) * i *s) * np.exp(i * s* r* T)\n",
    "    exp2 = 1 - g * np.exp(-d *T)\n",
    "    exp3 = 1- g\n",
    "    mainExp1 = exp1 * np.power(exp2/ exp3, -2 * theta * kappa/(sigma **2))\n",
    "    \n",
    "    # Calculate second exponential\n",
    "    exp4 = theta * kappa * T/(sigma **2)\n",
    "    exp5 = volvol/(sigma **2)\n",
    "    exp6 = (1 - np.exp(-d * T))/(1 - g * np.exp(-d * T))\n",
    "    mainExp2 = np.exp((exp4 * g1) + (exp5 *g1 * exp6))\n",
    "    \n",
    "    return (mainExp1 * mainExp2)\n"
   ]
  },
  {
   "cell_type": "markdown",
   "metadata": {},
   "source": [
    "##### 2. Computing the integral and Full Pricer\n",
    "- Selecting a limit = 100 \n",
    "- Selecting an integration scheme = Riemann sum"
   ]
  },
  {
   "cell_type": "code",
   "execution_count": 4,
   "metadata": {},
   "outputs": [],
   "source": [
    "# Heston Pricer (allow for parallel processing with numba)\n",
    "@jit(forceobj=True)\n",
    "def priceHestonMid(St, K, r, T, sigma, kappa, theta, volvol, rho):\n",
    "    P, iterations, maxNumber = 0,1000,100\n",
    "    ds = maxNumber/iterations\n",
    "    \n",
    "    element1 = 0.5 * (St - K * np.exp(-r * T))\n",
    "    \n",
    "    # Calculate the complex integral\n",
    "    # Using j instead of i to avoid confusion\n",
    "    for j in prange(1, iterations):\n",
    "        s1 = ds * (2*j + 1)/2\n",
    "        s2 = s1 - i\n",
    "        \n",
    "        numerator1 = fHeston(s2,  St, K, r, T, sigma, kappa, theta, volvol, rho)\n",
    "        numerator2 = K * fHeston(s1,  St, K, r, T, sigma, kappa, theta, volvol, rho)\n",
    "        denominator = np.exp(np.log(K) * i * s1) *i *s1\n",
    "        \n",
    "        P = P + ds *(numerator1 - numerator2)/denominator\n",
    "    \n",
    "    element2 = P/np.pi\n",
    "    \n",
    "    return np.real((element1 + element2))"
   ]
  },
  {
   "cell_type": "code",
   "execution_count": 26,
   "metadata": {},
   "outputs": [],
   "source": [
    "maturities = []\n",
    "strikes = []\n",
    "marketPrices = []\n",
    "for j in range(11):\n",
    "    prices_ = []\n",
    "    strikes_ = []\n",
    "    maturities_ = []\n",
    "\n",
    "    temp = pd.read_excel(f'Data/{j+1}.xlsx')\n",
    "\n",
    "    maturity = temp['Strike'][0]\n",
    "    temp = temp.iloc[1:,:]\n",
    "    strike = list(temp['Strike'].values)\n",
    "    price = list(temp['Mid'].values)\n",
    "\n",
    "    for k in range(len(strike)):\n",
    "        if price[k] >= 100 and not np.isnan(price[k]) and strike[k]>=1500:\n",
    "            prices_.append(price[k])\n",
    "            strikes_.append(strike[k])\n",
    "            maturities_.append(maturity+1/252)\n",
    "    \n",
    "    maturities=maturities+maturities_\n",
    "    strikes=strikes+strikes_\n",
    "    marketPrices=marketPrices+prices_\n",
    "maturities=np.array(maturities)\n",
    "strikes=np.array(strikes)\n",
    "marketPrices=np.array(marketPrices)\n",
    "    "
   ]
  },
  {
   "cell_type": "code",
   "execution_count": 27,
   "metadata": {},
   "outputs": [
    {
     "name": "stdout",
     "output_type": "stream",
     "text": [
      "859\n",
      "859\n",
      "859\n"
     ]
    }
   ],
   "source": [
    "print(len(maturities))\n",
    "print(len(strikes))\n",
    "print(len(marketPrices))"
   ]
  },
  {
   "cell_type": "code",
   "execution_count": 32,
   "metadata": {},
   "outputs": [],
   "source": [
    "rate = 3.285734"
   ]
  },
  {
   "cell_type": "code",
   "execution_count": 28,
   "metadata": {},
   "outputs": [],
   "source": [
    "# Can be used for debugging\n",
    "# def iter_cb(params, iter, resid):\n",
    "#     parameters = [params['sigma'].value, \n",
    "#                   params['kappa'].value, \n",
    "#                   params['theta'].value, \n",
    "#                   params['volvol'].value, \n",
    "#                   params['rho'].value, \n",
    "#                   np.sum(np.square(resid))]\n",
    "#     print(parameters) \n",
    "    \n",
    "# This is the calibration function\n",
    "def calibratorHeston(St, initialValues = [0.5,0.5,0.5,0.5,-0.5], \n",
    "                              lowerBounds = [1e-2,1e-2,1e-2,1e-2,-1], \n",
    "                              upperBounds = [10,10,10,10,0]):\n",
    "    '''Implementation of the Levenberg Marquardt algorithm in Python to find the optimal value \n",
    "        based on a given volatility surface.\n",
    "        \n",
    "        Function to be minimized:\n",
    "            Error = (MarketPrices - ModelPrices)/MarketPrices\n",
    "        \n",
    "        INPUTS\n",
    "        ===========\n",
    "        1) Volatility Surface\n",
    "            - Obtained from webscrapping. \n",
    "        \n",
    "        2) Risk Free Curve\n",
    "            - Obtained from webscrapping. \n",
    "            \n",
    "        3) initialValues\n",
    "            - Initialization values for the algorithms in this order:\n",
    "                [sigma, kappa, theta, volvol, rho]\n",
    "                \n",
    "            - Default value: [0.1,0.1,0.1,0.1,0.1]\n",
    "            \n",
    "        4) lowerBounds\n",
    "            -Fix lower limit for the values\n",
    "            - Default value: [0.001,0.001,0.001,0.001,-1.00]\n",
    "            \n",
    "        5) upperBounds\n",
    "            -Fix upper limit for the values\n",
    "            - Default value: [1.0,1.0,1.0,1.0,1.0]\n",
    "            \n",
    "        6) St is the stock price today.\n",
    "    \n",
    "    Set Up\n",
    "    =======\n",
    "    1) We define the limits of the parameters using the Parameters object\n",
    "    2) We define an objective function that gives the relative difference between market prices and model prices\n",
    "    3) We minimize the function using the Levenberg Marquardt algorithm\n",
    "    '''\n",
    "        \n",
    "    '''1) Define parameters\n",
    "    =========================='''\n",
    "    params = Parameters()\n",
    "    params.add('sigma',value = initialValues[0], min = lowerBounds[0], max = upperBounds[0])\n",
    "    params.add('kappa',value = initialValues[1], min = lowerBounds[1], max = upperBounds[1])\n",
    "    params.add('theta',value = initialValues[2], min = lowerBounds[2], max = upperBounds[2])\n",
    "    params.add('volvol', value = initialValues[3], min = lowerBounds[3], max = upperBounds[3])\n",
    "    params.add('rho', value = initialValues[4], min = lowerBounds[4], max = upperBounds[4])\n",
    "    \n",
    "    rate = 3.285734\n",
    "    \n",
    "    '''2) Define objective function\n",
    "    ================================'''\n",
    "    objectiveFunctionHeston = lambda paramVect: (marketPrices - priceHestonMid(St, strikes,  \n",
    "                                                                        rate, \n",
    "                                                                        maturities, \n",
    "                                                                        paramVect['sigma'].value,                         \n",
    "                                                                        paramVect['kappa'].value,\n",
    "                                                                        paramVect['theta'].value,\n",
    "                                                                        paramVect['volvol'].value,\n",
    "                                                                        paramVect['rho'].value))/marketPrices   \n",
    "    \n",
    "    '''3) Optimize parameters\n",
    "    =============================='''\n",
    "    result = minimize(objectiveFunctionHeston, \n",
    "                      params, \n",
    "                      method = 'leastsq',\n",
    "                      ftol = 1e-6)\n",
    "    return(result)"
   ]
  },
  {
   "cell_type": "code",
   "execution_count": 29,
   "metadata": {},
   "outputs": [
    {
     "ename": "ValueError",
     "evalue": "NaN values detected in your input data or the output of your objective/model function - fitting algorithms cannot handle this! Please read https://lmfit.github.io/lmfit-py/faq.html#i-get-errors-from-nan-in-my-fit-what-can-i-do for more information.",
     "output_type": "error",
     "traceback": [
      "\u001b[1;31m---------------------------------------------------------------------------\u001b[0m",
      "\u001b[1;31mValueError\u001b[0m                                Traceback (most recent call last)",
      "\u001b[1;32mc:\\Users\\sazih\\OneDrive\\Documents\\DSAI\\MH4518 - Simulation Technique in Finance\\Group Project\\Github\\MH4518-Project\\Code\\HestonModel.ipynb Cell 10\u001b[0m line \u001b[0;36m1\n\u001b[1;32m----> <a href='vscode-notebook-cell:/c%3A/Users/sazih/OneDrive/Documents/DSAI/MH4518%20-%20Simulation%20Technique%20in%20Finance/Group%20Project/Github/MH4518-Project/Code/HestonModel.ipynb#X20sZmlsZQ%3D%3D?line=0'>1</a>\u001b[0m result \u001b[39m=\u001b[39m calibratorHeston(\u001b[39m4288.85\u001b[39;49m)\n",
      "\u001b[1;32mc:\\Users\\sazih\\OneDrive\\Documents\\DSAI\\MH4518 - Simulation Technique in Finance\\Group Project\\Github\\MH4518-Project\\Code\\HestonModel.ipynb Cell 10\u001b[0m line \u001b[0;36m7\n\u001b[0;32m     <a href='vscode-notebook-cell:/c%3A/Users/sazih/OneDrive/Documents/DSAI/MH4518%20-%20Simulation%20Technique%20in%20Finance/Group%20Project/Github/MH4518-Project/Code/HestonModel.ipynb#X20sZmlsZQ%3D%3D?line=64'>65</a>\u001b[0m objectiveFunctionHeston \u001b[39m=\u001b[39m \u001b[39mlambda\u001b[39;00m paramVect: (marketPrices \u001b[39m-\u001b[39m priceHestonMid(St, strikes,  \n\u001b[0;32m     <a href='vscode-notebook-cell:/c%3A/Users/sazih/OneDrive/Documents/DSAI/MH4518%20-%20Simulation%20Technique%20in%20Finance/Group%20Project/Github/MH4518-Project/Code/HestonModel.ipynb#X20sZmlsZQ%3D%3D?line=65'>66</a>\u001b[0m                                                                     rate, \n\u001b[0;32m     <a href='vscode-notebook-cell:/c%3A/Users/sazih/OneDrive/Documents/DSAI/MH4518%20-%20Simulation%20Technique%20in%20Finance/Group%20Project/Github/MH4518-Project/Code/HestonModel.ipynb#X20sZmlsZQ%3D%3D?line=66'>67</a>\u001b[0m                                                                     maturities, \n\u001b[1;32m   (...)\u001b[0m\n\u001b[0;32m     <a href='vscode-notebook-cell:/c%3A/Users/sazih/OneDrive/Documents/DSAI/MH4518%20-%20Simulation%20Technique%20in%20Finance/Group%20Project/Github/MH4518-Project/Code/HestonModel.ipynb#X20sZmlsZQ%3D%3D?line=70'>71</a>\u001b[0m                                                                     paramVect[\u001b[39m'\u001b[39m\u001b[39mvolvol\u001b[39m\u001b[39m'\u001b[39m]\u001b[39m.\u001b[39mvalue,\n\u001b[0;32m     <a href='vscode-notebook-cell:/c%3A/Users/sazih/OneDrive/Documents/DSAI/MH4518%20-%20Simulation%20Technique%20in%20Finance/Group%20Project/Github/MH4518-Project/Code/HestonModel.ipynb#X20sZmlsZQ%3D%3D?line=71'>72</a>\u001b[0m                                                                     paramVect[\u001b[39m'\u001b[39m\u001b[39mrho\u001b[39m\u001b[39m'\u001b[39m]\u001b[39m.\u001b[39mvalue))\u001b[39m/\u001b[39mmarketPrices   \n\u001b[0;32m     <a href='vscode-notebook-cell:/c%3A/Users/sazih/OneDrive/Documents/DSAI/MH4518%20-%20Simulation%20Technique%20in%20Finance/Group%20Project/Github/MH4518-Project/Code/HestonModel.ipynb#X20sZmlsZQ%3D%3D?line=73'>74</a>\u001b[0m \u001b[39m\u001b[39m\u001b[39m'''3) Optimize parameters\u001b[39;00m\n\u001b[0;32m     <a href='vscode-notebook-cell:/c%3A/Users/sazih/OneDrive/Documents/DSAI/MH4518%20-%20Simulation%20Technique%20in%20Finance/Group%20Project/Github/MH4518-Project/Code/HestonModel.ipynb#X20sZmlsZQ%3D%3D?line=74'>75</a>\u001b[0m \u001b[39m=============================='''\u001b[39;00m\n\u001b[1;32m---> <a href='vscode-notebook-cell:/c%3A/Users/sazih/OneDrive/Documents/DSAI/MH4518%20-%20Simulation%20Technique%20in%20Finance/Group%20Project/Github/MH4518-Project/Code/HestonModel.ipynb#X20sZmlsZQ%3D%3D?line=75'>76</a>\u001b[0m result \u001b[39m=\u001b[39m minimize(objectiveFunctionHeston, \n\u001b[0;32m     <a href='vscode-notebook-cell:/c%3A/Users/sazih/OneDrive/Documents/DSAI/MH4518%20-%20Simulation%20Technique%20in%20Finance/Group%20Project/Github/MH4518-Project/Code/HestonModel.ipynb#X20sZmlsZQ%3D%3D?line=76'>77</a>\u001b[0m                   params, \n\u001b[0;32m     <a href='vscode-notebook-cell:/c%3A/Users/sazih/OneDrive/Documents/DSAI/MH4518%20-%20Simulation%20Technique%20in%20Finance/Group%20Project/Github/MH4518-Project/Code/HestonModel.ipynb#X20sZmlsZQ%3D%3D?line=77'>78</a>\u001b[0m                   method \u001b[39m=\u001b[39;49m \u001b[39m'\u001b[39;49m\u001b[39mleastsq\u001b[39;49m\u001b[39m'\u001b[39;49m,\n\u001b[0;32m     <a href='vscode-notebook-cell:/c%3A/Users/sazih/OneDrive/Documents/DSAI/MH4518%20-%20Simulation%20Technique%20in%20Finance/Group%20Project/Github/MH4518-Project/Code/HestonModel.ipynb#X20sZmlsZQ%3D%3D?line=78'>79</a>\u001b[0m                   ftol \u001b[39m=\u001b[39;49m \u001b[39m1e-6\u001b[39;49m)\n\u001b[0;32m     <a href='vscode-notebook-cell:/c%3A/Users/sazih/OneDrive/Documents/DSAI/MH4518%20-%20Simulation%20Technique%20in%20Finance/Group%20Project/Github/MH4518-Project/Code/HestonModel.ipynb#X20sZmlsZQ%3D%3D?line=79'>80</a>\u001b[0m \u001b[39mreturn\u001b[39;00m(result)\n",
      "File \u001b[1;32mc:\\Users\\sazih\\OneDrive\\Documents\\DSAI\\MH4518 - Simulation Technique in Finance\\Group Project\\.venv\\lib\\site-packages\\lmfit\\minimizer.py:2601\u001b[0m, in \u001b[0;36mminimize\u001b[1;34m(fcn, params, method, args, kws, iter_cb, scale_covar, nan_policy, reduce_fcn, calc_covar, max_nfev, **fit_kws)\u001b[0m\n\u001b[0;32m   2461\u001b[0m \u001b[39m\u001b[39m\u001b[39m\"\"\"Perform the minimization of the objective function.\u001b[39;00m\n\u001b[0;32m   2462\u001b[0m \n\u001b[0;32m   2463\u001b[0m \u001b[39mThe minimize function takes an objective function to be minimized,\u001b[39;00m\n\u001b[1;32m   (...)\u001b[0m\n\u001b[0;32m   2595\u001b[0m \n\u001b[0;32m   2596\u001b[0m \u001b[39m\"\"\"\u001b[39;00m\n\u001b[0;32m   2597\u001b[0m fitter \u001b[39m=\u001b[39m Minimizer(fcn, params, fcn_args\u001b[39m=\u001b[39margs, fcn_kws\u001b[39m=\u001b[39mkws,\n\u001b[0;32m   2598\u001b[0m                    iter_cb\u001b[39m=\u001b[39miter_cb, scale_covar\u001b[39m=\u001b[39mscale_covar,\n\u001b[0;32m   2599\u001b[0m                    nan_policy\u001b[39m=\u001b[39mnan_policy, reduce_fcn\u001b[39m=\u001b[39mreduce_fcn,\n\u001b[0;32m   2600\u001b[0m                    calc_covar\u001b[39m=\u001b[39mcalc_covar, max_nfev\u001b[39m=\u001b[39mmax_nfev, \u001b[39m*\u001b[39m\u001b[39m*\u001b[39mfit_kws)\n\u001b[1;32m-> 2601\u001b[0m \u001b[39mreturn\u001b[39;00m fitter\u001b[39m.\u001b[39;49mminimize(method\u001b[39m=\u001b[39;49mmethod)\n",
      "File \u001b[1;32mc:\\Users\\sazih\\OneDrive\\Documents\\DSAI\\MH4518 - Simulation Technique in Finance\\Group Project\\.venv\\lib\\site-packages\\lmfit\\minimizer.py:2345\u001b[0m, in \u001b[0;36mMinimizer.minimize\u001b[1;34m(self, method, params, **kws)\u001b[0m\n\u001b[0;32m   2342\u001b[0m         \u001b[39mif\u001b[39;00m (key\u001b[39m.\u001b[39mlower()\u001b[39m.\u001b[39mstartswith(user_method) \u001b[39mor\u001b[39;00m\n\u001b[0;32m   2343\u001b[0m                 val\u001b[39m.\u001b[39mlower()\u001b[39m.\u001b[39mstartswith(user_method)):\n\u001b[0;32m   2344\u001b[0m             kwargs[\u001b[39m'\u001b[39m\u001b[39mmethod\u001b[39m\u001b[39m'\u001b[39m] \u001b[39m=\u001b[39m val\n\u001b[1;32m-> 2345\u001b[0m \u001b[39mreturn\u001b[39;00m function(\u001b[39m*\u001b[39m\u001b[39m*\u001b[39mkwargs)\n",
      "File \u001b[1;32mc:\\Users\\sazih\\OneDrive\\Documents\\DSAI\\MH4518 - Simulation Technique in Finance\\Group Project\\.venv\\lib\\site-packages\\lmfit\\minimizer.py:1651\u001b[0m, in \u001b[0;36mMinimizer.leastsq\u001b[1;34m(self, params, max_nfev, **kws)\u001b[0m\n\u001b[0;32m   1649\u001b[0m result\u001b[39m.\u001b[39mcall_kws \u001b[39m=\u001b[39m lskws\n\u001b[0;32m   1650\u001b[0m \u001b[39mtry\u001b[39;00m:\n\u001b[1;32m-> 1651\u001b[0m     lsout \u001b[39m=\u001b[39m scipy_leastsq(\u001b[39mself\u001b[39m\u001b[39m.\u001b[39m__residual, variables, \u001b[39m*\u001b[39m\u001b[39m*\u001b[39mlskws)\n\u001b[0;32m   1652\u001b[0m \u001b[39mexcept\u001b[39;00m AbortFitException:\n\u001b[0;32m   1653\u001b[0m     \u001b[39mpass\u001b[39;00m\n",
      "File \u001b[1;32mc:\\Users\\sazih\\OneDrive\\Documents\\DSAI\\MH4518 - Simulation Technique in Finance\\Group Project\\.venv\\lib\\site-packages\\scipy\\optimize\\_minpack_py.py:428\u001b[0m, in \u001b[0;36mleastsq\u001b[1;34m(func, x0, args, Dfun, full_output, col_deriv, ftol, xtol, gtol, maxfev, epsfcn, factor, diag)\u001b[0m\n\u001b[0;32m    426\u001b[0m     \u001b[39mif\u001b[39;00m maxfev \u001b[39m==\u001b[39m \u001b[39m0\u001b[39m:\n\u001b[0;32m    427\u001b[0m         maxfev \u001b[39m=\u001b[39m \u001b[39m200\u001b[39m\u001b[39m*\u001b[39m(n \u001b[39m+\u001b[39m \u001b[39m1\u001b[39m)\n\u001b[1;32m--> 428\u001b[0m     retval \u001b[39m=\u001b[39m _minpack\u001b[39m.\u001b[39;49m_lmdif(func, x0, args, full_output, ftol, xtol,\n\u001b[0;32m    429\u001b[0m                              gtol, maxfev, epsfcn, factor, diag)\n\u001b[0;32m    430\u001b[0m \u001b[39melse\u001b[39;00m:\n\u001b[0;32m    431\u001b[0m     \u001b[39mif\u001b[39;00m col_deriv:\n",
      "File \u001b[1;32mc:\\Users\\sazih\\OneDrive\\Documents\\DSAI\\MH4518 - Simulation Technique in Finance\\Group Project\\.venv\\lib\\site-packages\\lmfit\\minimizer.py:562\u001b[0m, in \u001b[0;36mMinimizer.__residual\u001b[1;34m(self, fvars, apply_bounds_transformation)\u001b[0m\n\u001b[0;32m    560\u001b[0m     \u001b[39mraise\u001b[39;00m AbortFitException(\u001b[39m\"\u001b[39m\u001b[39mfit aborted by user.\u001b[39m\u001b[39m\"\u001b[39m)\n\u001b[0;32m    561\u001b[0m \u001b[39melse\u001b[39;00m:\n\u001b[1;32m--> 562\u001b[0m     \u001b[39mreturn\u001b[39;00m coerce_float64(out, nan_policy\u001b[39m=\u001b[39;49m\u001b[39mself\u001b[39;49m\u001b[39m.\u001b[39;49mnan_policy)\n",
      "File \u001b[1;32mc:\\Users\\sazih\\OneDrive\\Documents\\DSAI\\MH4518 - Simulation Technique in Finance\\Group Project\\.venv\\lib\\site-packages\\lmfit\\minimizer.py:2445\u001b[0m, in \u001b[0;36mcoerce_float64\u001b[1;34m(arr, nan_policy, handle_inf, ravel, ravel_order)\u001b[0m\n\u001b[0;32m   2440\u001b[0m     \u001b[39mif\u001b[39;00m contains_nan:\n\u001b[0;32m   2441\u001b[0m         msg \u001b[39m=\u001b[39m (\u001b[39m'\u001b[39m\u001b[39mNaN values detected in your input data or the output of \u001b[39m\u001b[39m'\u001b[39m\n\u001b[0;32m   2442\u001b[0m                \u001b[39m'\u001b[39m\u001b[39myour objective/model function - fitting algorithms cannot \u001b[39m\u001b[39m'\u001b[39m\n\u001b[0;32m   2443\u001b[0m                \u001b[39m'\u001b[39m\u001b[39mhandle this! Please read https://lmfit.github.io/lmfit-py/faq.html#i-get-errors-from-nan-in-my-fit-what-can-i-do \u001b[39m\u001b[39m'\u001b[39m\n\u001b[0;32m   2444\u001b[0m                \u001b[39m'\u001b[39m\u001b[39mfor more information.\u001b[39m\u001b[39m'\u001b[39m)\n\u001b[1;32m-> 2445\u001b[0m         \u001b[39mraise\u001b[39;00m \u001b[39mValueError\u001b[39;00m(msg)\n\u001b[0;32m   2446\u001b[0m \u001b[39mreturn\u001b[39;00m arr\n",
      "\u001b[1;31mValueError\u001b[0m: NaN values detected in your input data or the output of your objective/model function - fitting algorithms cannot handle this! Please read https://lmfit.github.io/lmfit-py/faq.html#i-get-errors-from-nan-in-my-fit-what-can-i-do for more information."
     ]
    }
   ],
   "source": [
    "result = calibratorHeston(4288.85)"
   ]
  },
  {
   "cell_type": "code",
   "execution_count": null,
   "metadata": {},
   "outputs": [
    {
     "data": {
      "text/html": [
       "<h2>Fit Result</h2> <table class=\"jp-toc-ignore\"><caption class=\"jp-toc-ignore\">Fit Statistics</caption><tr><td style='text-align:left'>fitting method</td><td style='text-align:right'>leastsq</td></tr><tr><td style='text-align:left'># function evals</td><td style='text-align:right'>864</td></tr><tr><td style='text-align:left'># data points</td><td style='text-align:right'>808</td></tr><tr><td style='text-align:left'># variables</td><td style='text-align:right'>5</td></tr><tr><td style='text-align:left'>chi-square</td><td style='text-align:right'> 259665.100</td></tr><tr><td style='text-align:left'>reduced chi-square</td><td style='text-align:right'> 323.368742</td></tr><tr><td style='text-align:left'>Akaike info crit.</td><td style='text-align:right'> 4674.24944</td></tr><tr><td style='text-align:left'>Bayesian info crit.</td><td style='text-align:right'> 4697.72225</td></tr></table><table class=\"jp-toc-ignore\"><caption>Parameters</caption><tr><th style='text-align:left'>name</th><th style='text-align:left'>value</th><th style='text-align:left'>initial value</th><th style='text-align:left'>min</th><th style='text-align:left'>max</th><th style='text-align:right'>vary</th></tr><tr><td style='text-align:left'>sigma</td><td style='text-align:left'> 9.99999965</td><td style='text-align:left'>0.5</td><td style='text-align:left'> 0.01000000</td><td style='text-align:left'> 10.0000000</td><td style='text-align:right'>True</td></tr><tr><td style='text-align:left'>kappa</td><td style='text-align:left'> 0.01000011</td><td style='text-align:left'>0.5</td><td style='text-align:left'> 0.01000000</td><td style='text-align:left'> 10.0000000</td><td style='text-align:right'>True</td></tr><tr><td style='text-align:left'>theta</td><td style='text-align:left'>10.00000000</td><td style='text-align:left'>0.5</td><td style='text-align:left'> 0.01000000</td><td style='text-align:left'> 10.0000000</td><td style='text-align:right'>True</td></tr><tr><td style='text-align:left'>volvol</td><td style='text-align:left'> 9.99971545</td><td style='text-align:left'>0.5</td><td style='text-align:left'> 0.01000000</td><td style='text-align:left'> 10.0000000</td><td style='text-align:right'>True</td></tr><tr><td style='text-align:left'>rho</td><td style='text-align:left'>-1.2491e-09</td><td style='text-align:left'>-0.5</td><td style='text-align:left'>-1.00000000</td><td style='text-align:left'> 0.00000000</td><td style='text-align:right'>True</td></tr></table>"
      ],
      "text/plain": [
       "<lmfit.minimizer.MinimizerResult at 0x1df324eca60>"
      ]
     },
     "execution_count": 16,
     "metadata": {},
     "output_type": "execute_result"
    }
   ],
   "source": [
    "result"
   ]
  },
  {
   "cell_type": "code",
   "execution_count": 19,
   "metadata": {},
   "outputs": [
    {
     "data": {
      "text/html": [
       "<h2>Fit Result</h2> <table class=\"jp-toc-ignore\"><caption class=\"jp-toc-ignore\">Fit Statistics</caption><tr><td style='text-align:left'>fitting method</td><td style='text-align:right'>leastsq</td></tr><tr><td style='text-align:left'># function evals</td><td style='text-align:right'>864</td></tr><tr><td style='text-align:left'># data points</td><td style='text-align:right'>808</td></tr><tr><td style='text-align:left'># variables</td><td style='text-align:right'>5</td></tr><tr><td style='text-align:left'>chi-square</td><td style='text-align:right'> 259665.100</td></tr><tr><td style='text-align:left'>reduced chi-square</td><td style='text-align:right'> 323.368742</td></tr><tr><td style='text-align:left'>Akaike info crit.</td><td style='text-align:right'> 4674.24944</td></tr><tr><td style='text-align:left'>Bayesian info crit.</td><td style='text-align:right'> 4697.72225</td></tr></table><table class=\"jp-toc-ignore\"><caption>Parameters</caption><tr><th style='text-align:left'>name</th><th style='text-align:left'>value</th><th style='text-align:left'>initial value</th><th style='text-align:left'>min</th><th style='text-align:left'>max</th><th style='text-align:right'>vary</th></tr><tr><td style='text-align:left'>sigma</td><td style='text-align:left'> 9.99999965</td><td style='text-align:left'>0.5</td><td style='text-align:left'> 0.01000000</td><td style='text-align:left'> 10.0000000</td><td style='text-align:right'>True</td></tr><tr><td style='text-align:left'>kappa</td><td style='text-align:left'> 0.01000011</td><td style='text-align:left'>0.5</td><td style='text-align:left'> 0.01000000</td><td style='text-align:left'> 10.0000000</td><td style='text-align:right'>True</td></tr><tr><td style='text-align:left'>theta</td><td style='text-align:left'>10.00000000</td><td style='text-align:left'>0.5</td><td style='text-align:left'> 0.01000000</td><td style='text-align:left'> 10.0000000</td><td style='text-align:right'>True</td></tr><tr><td style='text-align:left'>volvol</td><td style='text-align:left'> 9.99971545</td><td style='text-align:left'>0.5</td><td style='text-align:left'> 0.01000000</td><td style='text-align:left'> 10.0000000</td><td style='text-align:right'>True</td></tr><tr><td style='text-align:left'>rho</td><td style='text-align:left'>-1.2491e-09</td><td style='text-align:left'>-0.5</td><td style='text-align:left'>-1.00000000</td><td style='text-align:left'> 0.00000000</td><td style='text-align:right'>True</td></tr></table>"
      ],
      "text/plain": [
       "<lmfit.minimizer.MinimizerResult at 0x1df324eca60>"
      ]
     },
     "execution_count": 19,
     "metadata": {},
     "output_type": "execute_result"
    }
   ],
   "source": [
    "result2"
   ]
  },
  {
   "cell_type": "code",
   "execution_count": 55,
   "metadata": {},
   "outputs": [],
   "source": [
    "Nsim = 100000\n",
    "S = 4288.85\n",
    "T = 485/252\n",
    "r = 3.285734\n",
    "steps = 485\n",
    "\n",
    "\n",
    "# Heston Parameters\n",
    "v_0 = 9.99999965\n",
    "kappa = 0.01000011\n",
    "theta = 10.00000000\t\n",
    "xi = 9.99971545\n",
    "rho = -1.2491*10**(-9)"
   ]
  },
  {
   "cell_type": "code",
   "execution_count": 56,
   "metadata": {},
   "outputs": [],
   "source": [
    "def generate_heston_paths(S, T, r, kappa, theta, v_0, rho, xi, steps, Npaths, return_vol=False):\n",
    "    dt = T/steps\n",
    "    size = (Npaths, steps)\n",
    "    prices = np.zeros(size)\n",
    "    sigs = np.zeros(size)\n",
    "    S_t = S\n",
    "    v_t = v_0\n",
    "    for t in range(steps):\n",
    "        WT = np.random.multivariate_normal(np.array([0,0]), \n",
    "                                           cov = np.array([[1,rho],\n",
    "                                                          [rho,1]]), \n",
    "                                           size=Npaths) * np.sqrt(dt) \n",
    "        \n",
    "        S_t = S_t*(np.exp( (r- 0.5*v_t)*dt+ np.sqrt(v_t) *WT[:,0] ) ) \n",
    "        v_t = np.abs(v_t + kappa*(theta-v_t)*dt + xi*np.sqrt(v_t)*WT[:,1])\n",
    "        prices[:, t] = S_t\n",
    "        sigs[:, t] = v_t\n",
    "    \n",
    "    if return_vol:\n",
    "        return prices, sigs\n",
    "    \n",
    "    return prices"
   ]
  },
  {
   "cell_type": "code",
   "execution_count": 57,
   "metadata": {},
   "outputs": [],
   "source": [
    "sim_prices = generate_heston_paths(S, T, r, kappa, theta, v_0, rho, xi, steps, Nsim, return_vol=False)"
   ]
  },
  {
   "cell_type": "code",
   "execution_count": 58,
   "metadata": {},
   "outputs": [
    {
     "data": {
      "image/png": "[encoded data removed]",
      "text/plain": [
       "<Figure size 640x480 with 1 Axes>"
      ]
     },
     "metadata": {},
     "output_type": "display_data"
    }
   ],
   "source": [
    "for i in range(50, 100):\n",
    "    plt.plot(sim_prices[i,:])\n",
    "plt.show()"
   ]
  },
  {
   "cell_type": "code",
   "execution_count": 61,
   "metadata": {},
   "outputs": [],
   "source": [
    "sim_prices = pd.DataFrame(sim_prices)\n",
    "sim_Note = np.exp(-r*T)*sim_prices.apply(payoff.payoff_original, axis=1)\n",
    "note_MC = np.mean(sim_Note)\n",
    "note_MC_var = np.var(sim_Note)/Nsim\n",
    "lower_percentile = note_MC-1.96*np.sqrt(note_MC_var)\n",
    "higher_percentile = note_MC+1.96*np.sqrt(note_MC_var)"
   ]
  },
  {
   "cell_type": "code",
   "execution_count": 62,
   "metadata": {},
   "outputs": [
    {
     "name": "stdout",
     "output_type": "stream",
     "text": [
      "Note Value (MC): 1056.1506416185418\n",
      "Estimate Variance: 7183.046497053306\n",
      "95% Confidence Interval: [890.0350450507301, 1222.2662381863536]\n"
     ]
    }
   ],
   "source": [
    "print(f\"Note Value (MC): {note_MC}\")\n",
    "print(f\"Estimate Variance: {note_MC_var}\")\n",
    "print(f\"95% Confidence Interval: [{lower_percentile}, {higher_percentile}]\")"
   ]
  },
  {
   "cell_type": "code",
   "execution_count": null,
   "metadata": {},
   "outputs": [],
   "source": []
  }
 ],
 "metadata": {
  "kernelspec": {
   "display_name": ".venv",
   "language": "python",
   "name": "python3"
  },
  "language_info": {
   "codemirror_mode": {
    "name": "ipython",
    "version": 3
   },
   "file_extension": ".py",
   "mimetype": "text/x-python",
   "name": "python",
   "nbconvert_exporter": "python",
   "pygments_lexer": "ipython3",
   "version": "3.9.2"
  }
 },
 "nbformat": 4,
 "nbformat_minor": 2
}
